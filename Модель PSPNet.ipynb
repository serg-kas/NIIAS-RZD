{
 "cells": [
  {
   "cell_type": "markdown",
   "metadata": {
    "cellId": "evzpadrdn0v5s98kkyhcyi",
    "execution_id": "fff859c5-b71a-4422-9be6-d6b7bc6c1b74"
   },
   "source": [
    "### Создание и обучение модели для сегментации"
   ]
  },
  {
   "cell_type": "code",
   "execution_count": 38,
   "metadata": {
    "cellId": "4l86dcv5z58oqcpmxc4j6p"
   },
   "outputs": [],
   "source": [
    "#!g1.1\n",
    "import numpy as np \n",
    "import time\n",
    "import random\n",
    "import os\n",
    "\n",
    "import tensorflow as tf\n",
    "from tensorflow.keras.models import Model       \n",
    "from tensorflow.keras.layers import Input, Conv2DTranspose, concatenate, Activation, MaxPooling2D, Conv2D, BatchNormalization\n",
    "from tensorflow.keras.layers import Reshape, GlobalAveragePooling2D, UpSampling2D, AveragePooling2D\n",
    "from tensorflow.keras import backend as K        \n",
    "from tensorflow.keras.optimizers import Adam     \n",
    "from tensorflow.keras import utils               \n",
    "from tensorflow.keras.preprocessing import image \n",
    "from sklearn.model_selection import train_test_split\n",
    "from keras.models import load_model\n",
    "\n",
    "import matplotlib.pyplot as plt  \n",
    "# from PIL import Image "
   ]
  },
  {
   "cell_type": "code",
   "execution_count": 39,
   "metadata": {
    "cellId": "wnfb0hzdetjymu8mj9qz"
   },
   "outputs": [],
   "source": [
    "#!g1.1\n",
    "SEED = 1111\n",
    "random.seed(SEED)\n",
    "np.random.seed(SEED)\n",
    "tf.random.set_seed(SEED)"
   ]
  },
  {
   "cell_type": "code",
   "execution_count": 40,
   "metadata": {
    "cellId": "bmwxv5kcvxspz51dvywuha"
   },
   "outputs": [],
   "source": [
    "#!g1.1\n",
    "# Путь к сохраненным выборкам\n",
    "data_path = \"/home/jupyter/work/resources/NIIAS-RZD/data_np\"\n",
    "# Путь для сохранения моделей\n",
    "model_path = \"/home/jupyter/work/resources/NIIAS-RZD/models\""
   ]
  },
  {
   "cell_type": "code",
   "execution_count": 41,
   "metadata": {
    "cellId": "oo0pes17ezsjvld4jr06k"
   },
   "outputs": [
    {
     "name": "stdout",
     "output_type": "stream",
     "text": [
      "Имеем 30 сохраненных выборок\n"
     ]
    }
   ],
   "source": [
    "#!g1.1\n",
    "# Список выборок\n",
    "np_files  = []\n",
    "for file_name in sorted(os.listdir(data_path)):\n",
    "    if 'data' in file_name:\n",
    "        np_files.append(file_name)\n",
    "print(\"Имеем {} сохраненных выборок\".format(len(np_files)))"
   ]
  },
  {
   "cell_type": "code",
   "execution_count": 42,
   "metadata": {
    "cellId": "bbaqagb30dit69m2i919"
   },
   "outputs": [
    {
     "name": "stdout",
     "output_type": "stream",
     "text": [
      "data07.npz\n",
      "(800, 432, 768, 3) (800, 432, 768, 4)\n"
     ]
    },
    {
     "name": "stderr",
     "output_type": "stream",
     "text": [
      "/kernel/lib/python3.8/site-packages/ml_kernel/kernel.py:864: UserWarning: The following variables cannot be serialized: data\n",
      "  warnings.warn(message)\n"
     ]
    }
   ],
   "source": [
    "#!g1.1\n",
    "# Загрузим пример сохраненной выборки\n",
    "np_file = random.choice(np_files)\n",
    "print(np_file)\n",
    "data = np.load(os.path.join(data_path, np_file))\n",
    "images_np = data['a']\n",
    "anns_np = data['b']\n",
    "print(images_np.shape, anns_np.shape)"
   ]
  },
  {
   "cell_type": "code",
   "execution_count": 43,
   "metadata": {
    "cellId": "eqqugvy63qcdsihanih5ql"
   },
   "outputs": [
    {
     "name": "stdout",
     "output_type": "stream",
     "text": [
      "432 768\n"
     ]
    }
   ],
   "source": [
    "#!g1.1\n",
    "# Размеры, изображения\n",
    "img_height = images_np.shape[1]      # 432\n",
    "img_width = images_np.shape[2]       # 768\n",
    "print(img_height, img_width)"
   ]
  },
  {
   "cell_type": "code",
   "execution_count": 44,
   "metadata": {
    "cellId": "5jlwrrwadtwdoj34xw913s"
   },
   "outputs": [
    {
     "name": "stdout",
     "output_type": "stream",
     "text": [
      "4\n"
     ]
    }
   ],
   "source": [
    "#!g1.1\n",
    "# Классов сегментации\n",
    "classes = [0, 6, 7, 10]\n",
    "num_classes = len(classes)\n",
    "print(num_classes)"
   ]
  },
  {
   "cell_type": "markdown",
   "metadata": {
    "cellId": "5yj8ekt72sd1tvujjvzb1x",
    "execution_id": "adb87ad6-2581-42b5-b99b-6cc4671fd9f2"
   },
   "source": [
    "### Создание PSP-net"
   ]
  },
  {
   "cell_type": "markdown",
   "metadata": {
    "cellId": "li3012ff669ym5ic8302fb",
    "execution_id": "23022007-9447-49ec-937d-10cab6dc2c22"
   },
   "source": [
    "<img src=\"./PSPNet.png\" width=800 heigth=480>"
   ]
  },
  {
   "cell_type": "code",
   "execution_count": 45,
   "metadata": {
    "cellId": "5658qykr0ye0vm771671l3g"
   },
   "outputs": [],
   "source": [
    "#!g1.1\n",
    "# Функция метрики, обрабатывающая пересечение двух областей\n",
    "def dice_coef(y_true, y_pred):\n",
    "  # Возвращаем площадь пересечения деленную на площадь объединения двух областей\n",
    "  return (2. * K.sum(y_true * y_pred) + 1.) / (K.sum(y_true) + K.sum(y_pred) + 1.) "
   ]
  },
  {
   "cell_type": "code",
   "execution_count": 46,
   "metadata": {
    "cellId": "pq2q7o1oqotr4o8y8kw2wo"
   },
   "outputs": [],
   "source": [
    "#!g1.1\n",
    "'''\n",
    "  Функция создания сети\n",
    "    Входные параметры:\n",
    "    - num_classes - количество классов\n",
    "    - input_shape - размерность карты сегментации\n",
    "'''\n",
    "def pspnet(num_classes = 4, input_shape= (432, 768, 3)):\n",
    "    img_input = Input(input_shape)                                         # Создаем входной слой с размерностью input_shape\n",
    "\n",
    "    # Feature Map\n",
    "    x = Conv2D(64, (3, 3), padding='same', name='feature_map_conv1')(img_input)  # Добавляем Conv2D-слой с 64-нейронами\n",
    "    x = BatchNormalization()(x)                                                  # Добавляем слой BatchNormalization\n",
    "    x = Activation('relu')(x)                                                    # Добавляем слой Activation\n",
    "\n",
    "    x = Conv2D(128, (3, 3), padding='same', name='feature_map_conv2')(x)         # Добавляем Conv2D-слой с 64-нейронами\n",
    "    x = BatchNormalization()(x)                                                  # Добавляем слой BatchNormalization\n",
    "    x = Activation('relu')(x)                                                    # Добавляем слой Activation\n",
    " \n",
    "    x = Conv2D(256, (3, 3), padding='same', name='feature_map_conv3')(x)         # Добавляем Conv2D-слой с 64-нейронами\n",
    "    x = BatchNormalization()(x)                                                  # Добавляем слой BatchNormalization\n",
    "    feature_map_out = Activation('relu', name='feature_map_out')(x)              # Добавляем слой Activation \n",
    " \n",
    "\n",
    "    # Pyramyd Pooling Module\n",
    "    # red\n",
    "    #red = GlobalAveragePooling2D(name='red_pool')(feature_map_out)\n",
    "    #red = Reshape((1,1,256))(red)\n",
    "    red = AveragePooling2D(pool_size=(1,1),name='red_pool')(feature_map_out)\n",
    "    red = Conv2D(filters=64,kernel_size=(1,1),name='red_conv')(red)\n",
    "    #red = UpSampling2D(size=256,interpolation='bilinear',name='red_upsampling')(red)\n",
    "    red = UpSampling2D(size=1,interpolation='bilinear',name='red_upsampling')(red)\n",
    "\n",
    "    # yellow\n",
    "    yellow = AveragePooling2D(pool_size=(2,2),name='yellow_pool')(feature_map_out)\n",
    "    yellow = Conv2D(filters=64,kernel_size=(1,1),name='yellow_conv')(yellow)\n",
    "    yellow = UpSampling2D(size=2,interpolation='bilinear',name='yellow_upsampling')(yellow)\n",
    "\n",
    "    # blue\n",
    "    blue = AveragePooling2D(pool_size=(4,4),name='blue_pool')(feature_map_out)\n",
    "    blue = Conv2D(filters=64,kernel_size=(1,1),name='blue_conv')(blue)\n",
    "    blue = UpSampling2D(size=4,interpolation='bilinear',name='blue_upsampling')(blue)\n",
    "\n",
    "    # green\n",
    "    green = AveragePooling2D(pool_size=(8,8),name='green_pool')(feature_map_out)\n",
    "    green = Conv2D(filters=64,kernel_size=(1,1),name='green_conv')(green)\n",
    "    green = UpSampling2D(size=8,interpolation='bilinear',name='green_upsampling')(green)\n",
    "\n",
    "    # feature_map + red + yellow + blue + green\n",
    "    pooling_module_out = concatenate([feature_map_out,red,yellow,blue,green])\n",
    "\n",
    "\n",
    "    # Final Prediction\n",
    "    x = Conv2D(64, (3, 3), padding='same')(pooling_module_out)                   # Добавляем слой Conv2D с 64 нейронами\n",
    "    x = BatchNormalization()(x)                                                  # Добавляем слой BatchNormalization\n",
    "    x = Activation('relu')(x)                                                    # Добавляем слой Activation\n",
    "\n",
    "    x = Conv2D(num_classes, (3, 3), activation='softmax', padding='same')(x)     # Добавляем Conv2D-Слой с softmax-активацией на num_classes-нейронов\n",
    "\n",
    "    model = Model(img_input, x) # Создаем модель с входом 'img_input' и выходом 'x'\n",
    "\n",
    "    # Компилируем модель \n",
    "    model.compile(optimizer=Adam(),\n",
    "                  loss='categorical_crossentropy',\n",
    "                  metrics=[dice_coef])\n",
    "    \n",
    "    return model # Возвращаем сформированную модель"
   ]
  },
  {
   "cell_type": "code",
   "execution_count": 25,
   "metadata": {
    "cellId": "qby3r9gem1mp0bswi8gw5"
   },
   "outputs": [
    {
     "name": "stdout",
     "output_type": "stream",
     "text": [
      "INFO:tensorflow:Assets written to: /home/jupyter/work/resources/NIIAS-RZD/models/00-PSPNet/assets\n"
     ]
    }
   ],
   "source": [
    "#!g1.1\n",
    "# Создаем модель и сохраняем ее \n",
    "modelPSPnet = pspnet(num_classes, (img_height, img_width, 3))\n",
    "# modelPSPnet.summary()\n",
    "\n",
    "model_file = os.path.join(model_path, '00-PSPNet')\n",
    "modelPSPnet.save(model_file, save_format='tf')"
   ]
  },
  {
   "cell_type": "code",
   "execution_count": 47,
   "metadata": {
    "cellId": "tujsit3rkkg11njyjboo9v8"
   },
   "outputs": [
    {
     "name": "stdout",
     "output_type": "stream",
     "text": [
      "340/340 [==============================] - 72s 213ms/step - loss: 0.4087 - dice_coef: 0.7934 - val_loss: 0.4868 - val_dice_coef: 0.7843\n",
      "Epoch 5/10\n",
      "340/340 [==============================] - 72s 212ms/step - loss: 0.4138 - dice_coef: 0.7904 - val_loss: 0.4817 - val_dice_coef: 0.7892\n",
      "Epoch 6/10\n",
      "340/340 [==============================] - 72s 212ms/step - loss: 0.4086 - dice_coef: 0.7939 - val_loss: 0.5265 - val_dice_coef: 0.7871\n",
      "Epoch 7/10\n",
      "340/340 [==============================] - 72s 212ms/step - loss: 0.4097 - dice_coef: 0.7924 - val_loss: 0.4922 - val_dice_coef: 0.7589\n",
      "Epoch 8/10\n",
      "340/340 [==============================] - 72s 213ms/step - loss: 0.4063 - dice_coef: 0.7941 - val_loss: 0.4837 - val_dice_coef: 0.7955\n",
      "Epoch 9/10\n",
      "340/340 [==============================] - 72s 212ms/step - loss: 0.4087 - dice_coef: 0.7938 - val_loss: 0.4889 - val_dice_coef: 0.7775\n",
      "Epoch 10/10\n",
      "340/340 [==============================] - 72s 213ms/step - loss: 0.4078 - dice_coef: 0.7934 - val_loss: 0.4955 - val_dice_coef: 0.7746\n",
      "INFO:tensorflow:Assets written to: /home/jupyter/work/resources/NIIAS-RZD/models/19-PSPNet/assets\n",
      "\n",
      "Обучение на выборке data20.npz\n",
      "Epoch 1/10\n",
      "340/340 [==============================] - 73s 216ms/step - loss: 0.4094 - dice_coef: 0.7915 - val_loss: 0.4705 - val_dice_coef: 0.7697\n",
      "Epoch 2/10\n",
      "340/340 [==============================] - 72s 212ms/step - loss: 0.4050 - dice_coef: 0.7950 - val_loss: 0.4751 - val_dice_coef: 0.7382\n",
      "Epoch 3/10\n",
      "340/340 [==============================] - 72s 212ms/step - loss: 0.4050 - dice_coef: 0.7937 - val_loss: 0.4673 - val_dice_coef: 0.7958\n",
      "Epoch 4/10\n",
      "340/340 [==============================] - 72s 212ms/step - loss: 0.4026 - dice_coef: 0.7948 - val_loss: 0.4743 - val_dice_coef: 0.7659\n",
      "Epoch 5/10\n",
      "340/340 [==============================] - 72s 212ms/step - loss: 0.4018 - dice_coef: 0.7965 - val_loss: 0.4904 - val_dice_coef: 0.7716\n",
      "Epoch 6/10\n",
      "340/340 [==============================] - 72s 212ms/step - loss: 0.4025 - dice_coef: 0.7954 - val_loss: 0.4758 - val_dice_coef: 0.7811\n",
      "Epoch 7/10\n",
      "340/340 [==============================] - 72s 212ms/step - loss: 0.4007 - dice_coef: 0.7963 - val_loss: 0.4628 - val_dice_coef: 0.7705\n",
      "Epoch 8/10\n",
      "340/340 [==============================] - 72s 213ms/step - loss: 0.3997 - dice_coef: 0.7968 - val_loss: 0.4982 - val_dice_coef: 0.8087\n",
      "Epoch 9/10\n",
      "340/340 [==============================] - 72s 212ms/step - loss: 0.3983 - dice_coef: 0.7977 - val_loss: 0.4981 - val_dice_coef: 0.7380\n",
      "Epoch 10/10\n",
      "340/340 [==============================] - 72s 213ms/step - loss: 0.3996 - dice_coef: 0.7974 - val_loss: 0.4768 - val_dice_coef: 0.7855\n",
      "INFO:tensorflow:Assets written to: /home/jupyter/work/resources/NIIAS-RZD/models/20-PSPNet/assets\n",
      "Время выполнения: 9467.72c\n"
     ]
    },
    {
     "name": "stderr",
     "output_type": "stream",
     "text": [
      "/kernel/lib/python3.8/site-packages/ml_kernel/kernel.py:864: UserWarning: The following variables cannot be serialized: data, history, history_list, modelPSPnet\n",
      "  warnings.warn(message)\n"
     ]
    }
   ],
   "source": [
    "#!g1.1\n",
    "# Обучаем на нескольких выборках\n",
    "N_np = 10\n",
    "start_from = 21 # нумерации файлов \n",
    "\n",
    "history_list = []\n",
    "\n",
    "# Загружаем модель (поправить вручную)\n",
    "model_file = os.path.join(model_path, '20-PSPNet')\n",
    "modelPSPnet = load_model(model_file, custom_objects={'dice_coef':dice_coef})\n",
    "\n",
    "cur_time = time.time()\n",
    "for n in range(N_np):\n",
    "    np_file = np_files[start_from + n - 1]\n",
    "    data = np.load(os.path.join(data_path, np_file))\n",
    "    images_np = data['a']\n",
    "    anns_np = data['b']\n",
    "    print(\"\\nОбучение на выборке {}\".format(np_file))\n",
    "    \n",
    "    x_train, x_val, y_train, y_val = train_test_split(images_np, anns_np, test_size=0.15, shuffle=True)   \n",
    "    \n",
    "    history = modelPSPnet.fit(x_train, y_train, epochs=10, batch_size=2, validation_data = (x_val, y_val)) \n",
    "    history_list.append(history)\n",
    "    \n",
    "    file_number = \"%02d\" % (start_from + n)\n",
    "    model_file = os.path.join(model_path, file_number + '-PSPNet')\n",
    "    modelPSPnet.save(model_file, save_format='tf')\n",
    "    \n",
    "print(\"Время выполнения: \", round(time.time() - cur_time, 2), 'c', sep='')"
   ]
  },
  {
   "cell_type": "code",
   "execution_count": 34,
   "metadata": {
    "cellId": "yrxqhwjbkdoz0j1ukr3sr"
   },
   "outputs": [
    {
     "data": {
      "image/png": "[encoded data removed]",
      "text/plain": [
       "<Figure size 1152x360 with 1 Axes>"
      ]
     },
     "metadata": {
      "needs_background": "light"
     },
     "output_type": "display_data"
    },
    {
     "name": "stdout",
     "output_type": "stream",
     "text": [
      "Максимальная точность val_dice_coef = 0.8008 на эпохе 38.\n"
     ]
    },
    {
     "name": "stderr",
     "output_type": "stream",
     "text": [
      "/kernel/lib/python3.8/site-packages/ml_kernel/kernel.py:864: UserWarning: The following variables cannot be serialized: history, history_list, modelPSPnet\n",
      "  warnings.warn(message)\n"
     ]
    }
   ],
   "source": [
    "#!g1.1\n",
    "#Отображаем график точности в процессе обучения\n",
    "history_acc = []\n",
    "history_val = []\n",
    "for N in range(len(history_list)):\n",
    "    history_acc = history_acc + history_list[N].history['dice_coef']\n",
    "    history_val = history_val + history_list[N].history['val_dice_coef']\n",
    "\n",
    "plt.figure(figsize=(16,5))\n",
    "plt.plot(history_acc, \n",
    "         label='dice_coef')\n",
    "plt.plot(history_val, \n",
    "         label='val_dice_coef')\n",
    "plt.xlabel('Эпоха обучения')\n",
    "plt.ylabel('Метрики')\n",
    "plt.legend()\n",
    "plt.show()\n",
    "\n",
    "# Максимальная точность\n",
    "val_acc = np.array(history_val)\n",
    "print('Максимальная точность val_dice_coef = {} на эпохе {}.'.format(round(val_acc.max(),4), val_acc.argmax()))\n"
   ]
  }
 ],
 "metadata": {
  "celltoolbar": "Необработанный формат ячейки",
  "language_info": {
   "codemirror_mode": {
    "name": "ipython",
    "version": 3
   },
   "file_extension": ".py",
   "mimetype": "text/x-python",
   "name": "python",
   "nbconvert_exporter": "python",
   "pygments_lexer": "ipython3",
   "version": "3.7.7"
  },
  "notebookId": "0e207f35-6b58-464b-995b-192967b3fc4f",
  "notebookPath": "NIIAS-RZD/Модель PSPNet.ipynb"
 },
 "nbformat": 4,
 "nbformat_minor": 4
}
