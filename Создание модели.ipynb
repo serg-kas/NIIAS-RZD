{
 "cells": [
  {
   "cell_type": "markdown",
   "metadata": {},
   "source": [
    "### Создание модели и обучение ее на одной выборке "
   ]
  },
  {
   "cell_type": "code",
   "execution_count": 1,
   "metadata": {
    "scrolled": true
   },
   "outputs": [
    {
     "name": "stdout",
     "output_type": "stream",
     "text": [
      "Python 3.9.13\r\n"
     ]
    }
   ],
   "source": [
    "!python --version"
   ]
  },
  {
   "cell_type": "code",
   "execution_count": 2,
   "metadata": {},
   "outputs": [],
   "source": [
    "import numpy as np \n",
    "import time\n",
    "import random\n",
    "import os\n",
    "\n",
    "from tensorflow.keras.models import Model       \n",
    "from tensorflow.keras.layers import Input, Conv2DTranspose, concatenate, Activation, MaxPooling2D, Conv2D, BatchNormalization\n",
    "from tensorflow.keras.layers import Reshape, GlobalAveragePooling2D, UpSampling2D, AveragePooling2D\n",
    "from tensorflow.keras import backend as K        \n",
    "from tensorflow.keras.optimizers import Adam     \n",
    "from tensorflow.keras import utils               \n",
    "from tensorflow.keras.preprocessing import image \n",
    "from sklearn.model_selection import train_test_split\n",
    "\n",
    "import matplotlib.pyplot as plt  \n",
    "# from PIL import Image "
   ]
  },
  {
   "cell_type": "code",
   "execution_count": 3,
   "metadata": {},
   "outputs": [],
   "source": [
    "SEED = 1111\n",
    "random.seed(SEED)\n",
    "np.random.seed(SEED)\n",
    "\n",
    "import tensorflow as tf\n",
    "tf.random.set_seed(SEED)"
   ]
  },
  {
   "cell_type": "code",
   "execution_count": 4,
   "metadata": {},
   "outputs": [],
   "source": [
    "# Путь к сохраненным выборкам\n",
    "data_path = \"/home/serg/bin/NIIAS-RZD/data_np\"\n",
    "# Путь для сохранения моделей\n",
    "model_path = \"/home/serg/bin/NIIAS-RZD/models\""
   ]
  },
  {
   "cell_type": "code",
   "execution_count": 5,
   "metadata": {},
   "outputs": [
    {
     "name": "stdout",
     "output_type": "stream",
     "text": [
      "Имеем 40 сохраненных выборок\n"
     ]
    }
   ],
   "source": [
    "np_files= [ os.path.join(data_path, file_name) for file_name in sorted(os.listdir(data_path))]\n",
    "print(\"Имеем {} сохраненных выборок\".format(len(np_files)))"
   ]
  },
  {
   "cell_type": "code",
   "execution_count": null,
   "metadata": {
    "scrolled": true
   },
   "outputs": [
    {
     "name": "stdout",
     "output_type": "stream",
     "text": [
      "(200, 432, 768, 3) (200, 432, 768, 4)\n",
      "/home/serg/bin/NIIAS-RZD/data_np/data10.npz\n",
      "(400, 432, 768, 3) (400, 432, 768, 4)\n",
      "/home/serg/bin/NIIAS-RZD/data_np/data11.npz\n"
     ]
    }
   ],
   "source": [
    "# Загрузим сохраненные выборки с конкатенацией массивов\n",
    "# НА НОУТЕ НЕ ХВАТАЕТ ПАМЯТИ\n",
    "start = 0\n",
    "stop = 5\n",
    "\n",
    "first_file = np_files[start]\n",
    "files_to_load = np_files[start+1:stop]\n",
    "\n",
    "print(first_file)\n",
    "data = np.load(first_file)\n",
    "images_np = data['a']\n",
    "anns_np = data['b']\n",
    "print(images_np.shape, anns_np.shape)\n",
    "\n",
    "for file_name in files_to_load:\n",
    "    print(file_name)\n",
    "    data = np.load(file_name)\n",
    "    curr_images_np = data['a']\n",
    "    curr_anns_np = data['b']\n",
    "    \n",
    "    images_np = np.concatenate([images_np, curr_images_np])\n",
    "    anns_np = np.concatenate([anns_np, curr_anns_np])\n",
    "    \n",
    "    print(images_np.shape, anns_np.shape)"
   ]
  },
  {
   "cell_type": "code",
   "execution_count": 13,
   "metadata": {},
   "outputs": [
    {
     "name": "stdout",
     "output_type": "stream",
     "text": [
      "/home/serg/bin/NIIAS-RZD/data_np/data18.npz\n",
      "(200, 432, 768, 3) (200, 432, 768, 4)\n"
     ]
    }
   ],
   "source": [
    "# Загрузим сохраненную выборку\n",
    "np_file = random.choice(np_files)\n",
    "print(np_file)\n",
    "data = np.load(np_file)\n",
    "images_np = data['a']\n",
    "anns_np = data['b']\n",
    "print(images_np.shape, anns_np.shape)"
   ]
  },
  {
   "cell_type": "code",
   "execution_count": 14,
   "metadata": {
    "scrolled": true
   },
   "outputs": [
    {
     "name": "stdout",
     "output_type": "stream",
     "text": [
      "(170, 432, 768, 3)\n",
      "(170, 432, 768, 4)\n",
      "(30, 432, 768, 3)\n",
      "(30, 432, 768, 4)\n"
     ]
    }
   ],
   "source": [
    "# Разделим train_test_split\n",
    "x_train, x_val, y_train, y_val = train_test_split(images_np, anns_np, test_size=0.15, shuffle=True)    \n",
    "print (x_train.shape)\n",
    "print (y_train.shape)\n",
    "print (x_val.shape)\n",
    "print (y_val.shape)"
   ]
  },
  {
   "cell_type": "code",
   "execution_count": 17,
   "metadata": {},
   "outputs": [
    {
     "name": "stdout",
     "output_type": "stream",
     "text": [
      "432 768\n"
     ]
    }
   ],
   "source": [
    "# Размеры, изображения\n",
    "img_height = x_train.shape[1]      # 432\n",
    "img_width = x_train.shape[2]       # 768\n",
    "print(img_height, img_width)"
   ]
  },
  {
   "cell_type": "code",
   "execution_count": 20,
   "metadata": {},
   "outputs": [
    {
     "name": "stdout",
     "output_type": "stream",
     "text": [
      "4\n"
     ]
    }
   ],
   "source": [
    "# Классов сегментации\n",
    "classes = [0, 6, 7, 10]\n",
    "num_classes = len(classes)\n",
    "print(num_classes)"
   ]
  },
  {
   "cell_type": "markdown",
   "metadata": {},
   "source": [
    "### Функции"
   ]
  },
  {
   "cell_type": "code",
   "execution_count": 22,
   "metadata": {},
   "outputs": [],
   "source": [
    "# Функция метрики, обрабатывающая пересечение двух областей\n",
    "def dice_coef(y_true, y_pred):\n",
    "  # Возвращаем площадь пересечения деленную на площадь объединения двух областей\n",
    "  return (2. * K.sum(y_true * y_pred) + 1.) / (K.sum(y_true) + K.sum(y_pred) + 1.) "
   ]
  },
  {
   "cell_type": "markdown",
   "metadata": {},
   "source": [
    "### Создание PSP-net"
   ]
  },
  {
   "cell_type": "markdown",
   "metadata": {},
   "source": [
    "Создадим модель, попробуем обучить и посмотреть результаты"
   ]
  },
  {
   "cell_type": "markdown",
   "metadata": {},
   "source": [
    "<img src=\"./PSPNet.png\" width=800 heigth=480>"
   ]
  },
  {
   "cell_type": "code",
   "execution_count": 15,
   "metadata": {},
   "outputs": [],
   "source": [
    "'''\n",
    "  Функция создания сети\n",
    "    Входные параметры:\n",
    "    - num_classes - количество классов\n",
    "    - input_shape - размерность карты сегментации\n",
    "'''\n",
    "def pspnet(num_classes = 4, input_shape= (432, 768, 3)):\n",
    "    img_input = Input(input_shape)                                         # Создаем входной слой с размерностью input_shape\n",
    "\n",
    "    # Feature Map\n",
    "    x = Conv2D(64, (3, 3), padding='same', name='feature_map_conv1')(img_input)  # Добавляем Conv2D-слой с 64-нейронами\n",
    "    x = BatchNormalization()(x)                                                  # Добавляем слой BatchNormalization\n",
    "    x = Activation('relu')(x)                                                    # Добавляем слой Activation\n",
    "\n",
    "    x = Conv2D(128, (3, 3), padding='same', name='feature_map_conv2')(x)         # Добавляем Conv2D-слой с 64-нейронами\n",
    "    x = BatchNormalization()(x)                                                  # Добавляем слой BatchNormalization\n",
    "    x = Activation('relu')(x)                                                    # Добавляем слой Activation\n",
    " \n",
    "    x = Conv2D(256, (3, 3), padding='same', name='feature_map_conv3')(x)         # Добавляем Conv2D-слой с 64-нейронами\n",
    "    x = BatchNormalization()(x)                                                  # Добавляем слой BatchNormalization\n",
    "    feature_map_out = Activation('relu', name='feature_map_out')(x)              # Добавляем слой Activation \n",
    " \n",
    "\n",
    "    # Pyramyd Pooling Module\n",
    "    # red\n",
    "    #red = GlobalAveragePooling2D(name='red_pool')(feature_map_out)\n",
    "    #red = Reshape((1,1,256))(red)\n",
    "    red = AveragePooling2D(pool_size=(1,1),name='red_pool')(feature_map_out)\n",
    "    red = Conv2D(filters=64,kernel_size=(1,1),name='red_conv')(red)\n",
    "    #red = UpSampling2D(size=256,interpolation='bilinear',name='red_upsampling')(red)\n",
    "    red = UpSampling2D(size=1,interpolation='bilinear',name='red_upsampling')(red)\n",
    "\n",
    "    # yellow\n",
    "    yellow = AveragePooling2D(pool_size=(2,2),name='yellow_pool')(feature_map_out)\n",
    "    yellow = Conv2D(filters=64,kernel_size=(1,1),name='yellow_conv')(yellow)\n",
    "    yellow = UpSampling2D(size=2,interpolation='bilinear',name='yellow_upsampling')(yellow)\n",
    "\n",
    "    # blue\n",
    "    blue = AveragePooling2D(pool_size=(4,4),name='blue_pool')(feature_map_out)\n",
    "    blue = Conv2D(filters=64,kernel_size=(1,1),name='blue_conv')(blue)\n",
    "    blue = UpSampling2D(size=4,interpolation='bilinear',name='blue_upsampling')(blue)\n",
    "\n",
    "    # green\n",
    "    green = AveragePooling2D(pool_size=(8,8),name='green_pool')(feature_map_out)\n",
    "    green = Conv2D(filters=64,kernel_size=(1,1),name='green_conv')(green)\n",
    "    green = UpSampling2D(size=8,interpolation='bilinear',name='green_upsampling')(green)\n",
    "\n",
    "    # feature_map + red + yellow + blue + green\n",
    "    pooling_module_out = concatenate([feature_map_out,red,yellow,blue,green])\n",
    "\n",
    "\n",
    "    # Final Prediction\n",
    "    x = Conv2D(64, (3, 3), padding='same')(pooling_module_out)                   # Добавляем слой Conv2D с 64 нейронами\n",
    "    x = BatchNormalization()(x)                                                  # Добавляем слой BatchNormalization\n",
    "    x = Activation('relu')(x)                                                    # Добавляем слой Activation\n",
    "\n",
    "    x = Conv2D(num_classes, (3, 3), activation='softmax', padding='same')(x)     # Добавляем Conv2D-Слой с softmax-активацией на num_classes-нейронов\n",
    "\n",
    "    model = Model(img_input, x) # Создаем модель с входом 'img_input' и выходом 'x'\n",
    "\n",
    "    # Компилируем модель \n",
    "    model.compile(optimizer=Adam(),\n",
    "                  loss='categorical_crossentropy',\n",
    "                  metrics=[dice_coef])\n",
    "    \n",
    "    return model # Возвращаем сформированную модель"
   ]
  },
  {
   "cell_type": "code",
   "execution_count": 26,
   "metadata": {},
   "outputs": [],
   "source": [
    "# Создаем модель\n",
    "modelPSPnet = pspnet(num_classes, (img_height, img_width, 3))"
   ]
  },
  {
   "cell_type": "code",
   "execution_count": 27,
   "metadata": {
    "scrolled": false
   },
   "outputs": [
    {
     "name": "stdout",
     "output_type": "stream",
     "text": [
      "Model: \"model_2\"\n",
      "__________________________________________________________________________________________________\n",
      " Layer (type)                   Output Shape         Param #     Connected to                     \n",
      "==================================================================================================\n",
      " input_3 (InputLayer)           [(None, 432, 768, 3  0           []                               \n",
      "                                )]                                                                \n",
      "                                                                                                  \n",
      " feature_map_conv1 (Conv2D)     (None, 432, 768, 64  1792        ['input_3[0][0]']                \n",
      "                                )                                                                 \n",
      "                                                                                                  \n",
      " batch_normalization_8 (BatchNo  (None, 432, 768, 64  256        ['feature_map_conv1[0][0]']      \n",
      " rmalization)                   )                                                                 \n",
      "                                                                                                  \n",
      " activation_6 (Activation)      (None, 432, 768, 64  0           ['batch_normalization_8[0][0]']  \n",
      "                                )                                                                 \n",
      "                                                                                                  \n",
      " feature_map_conv2 (Conv2D)     (None, 432, 768, 12  73856       ['activation_6[0][0]']           \n",
      "                                8)                                                                \n",
      "                                                                                                  \n",
      " batch_normalization_9 (BatchNo  (None, 432, 768, 12  512        ['feature_map_conv2[0][0]']      \n",
      " rmalization)                   8)                                                                \n",
      "                                                                                                  \n",
      " activation_7 (Activation)      (None, 432, 768, 12  0           ['batch_normalization_9[0][0]']  \n",
      "                                8)                                                                \n",
      "                                                                                                  \n",
      " feature_map_conv3 (Conv2D)     (None, 432, 768, 25  295168      ['activation_7[0][0]']           \n",
      "                                6)                                                                \n",
      "                                                                                                  \n",
      " batch_normalization_10 (BatchN  (None, 432, 768, 25  1024       ['feature_map_conv3[0][0]']      \n",
      " ormalization)                  6)                                                                \n",
      "                                                                                                  \n",
      " feature_map_out (Activation)   (None, 432, 768, 25  0           ['batch_normalization_10[0][0]'] \n",
      "                                6)                                                                \n",
      "                                                                                                  \n",
      " red_pool (AveragePooling2D)    (None, 432, 768, 25  0           ['feature_map_out[0][0]']        \n",
      "                                6)                                                                \n",
      "                                                                                                  \n",
      " yellow_pool (AveragePooling2D)  (None, 216, 384, 25  0          ['feature_map_out[0][0]']        \n",
      "                                6)                                                                \n",
      "                                                                                                  \n",
      " blue_pool (AveragePooling2D)   (None, 108, 192, 25  0           ['feature_map_out[0][0]']        \n",
      "                                6)                                                                \n",
      "                                                                                                  \n",
      " green_pool (AveragePooling2D)  (None, 54, 96, 256)  0           ['feature_map_out[0][0]']        \n",
      "                                                                                                  \n",
      " red_conv (Conv2D)              (None, 432, 768, 64  16448       ['red_pool[0][0]']               \n",
      "                                )                                                                 \n",
      "                                                                                                  \n",
      " yellow_conv (Conv2D)           (None, 216, 384, 64  16448       ['yellow_pool[0][0]']            \n",
      "                                )                                                                 \n",
      "                                                                                                  \n",
      " blue_conv (Conv2D)             (None, 108, 192, 64  16448       ['blue_pool[0][0]']              \n",
      "                                )                                                                 \n",
      "                                                                                                  \n",
      " green_conv (Conv2D)            (None, 54, 96, 64)   16448       ['green_pool[0][0]']             \n",
      "                                                                                                  \n",
      " red_upsampling (UpSampling2D)  (None, 432, 768, 64  0           ['red_conv[0][0]']               \n",
      "                                )                                                                 \n",
      "                                                                                                  \n",
      " yellow_upsampling (UpSampling2  (None, 432, 768, 64  0          ['yellow_conv[0][0]']            \n",
      " D)                             )                                                                 \n",
      "                                                                                                  \n",
      " blue_upsampling (UpSampling2D)  (None, 432, 768, 64  0          ['blue_conv[0][0]']              \n",
      "                                )                                                                 \n",
      "                                                                                                  \n",
      " green_upsampling (UpSampling2D  (None, 432, 768, 64  0          ['green_conv[0][0]']             \n",
      " )                              )                                                                 \n",
      "                                                                                                  \n",
      " concatenate_2 (Concatenate)    (None, 432, 768, 51  0           ['feature_map_out[0][0]',        \n",
      "                                2)                                'red_upsampling[0][0]',         \n",
      "                                                                  'yellow_upsampling[0][0]',      \n",
      "                                                                  'blue_upsampling[0][0]',        \n",
      "                                                                  'green_upsampling[0][0]']       \n",
      "                                                                                                  \n",
      " conv2d_4 (Conv2D)              (None, 432, 768, 64  294976      ['concatenate_2[0][0]']          \n",
      "                                )                                                                 \n",
      "                                                                                                  \n",
      " batch_normalization_11 (BatchN  (None, 432, 768, 64  256        ['conv2d_4[0][0]']               \n",
      " ormalization)                  )                                                                 \n",
      "                                                                                                  \n",
      " activation_8 (Activation)      (None, 432, 768, 64  0           ['batch_normalization_11[0][0]'] \n",
      "                                )                                                                 \n",
      "                                                                                                  \n",
      " conv2d_5 (Conv2D)              (None, 432, 768, 4)  2308        ['activation_8[0][0]']           \n"
     ]
    },
    {
     "name": "stdout",
     "output_type": "stream",
     "text": [
      "                                                                                                  \n",
      "==================================================================================================\n",
      "Total params: 735,940\n",
      "Trainable params: 734,916\n",
      "Non-trainable params: 1,024\n",
      "__________________________________________________________________________________________________\n"
     ]
    }
   ],
   "source": [
    "modelPSPnet.summary()"
   ]
  },
  {
   "cell_type": "code",
   "execution_count": 32,
   "metadata": {
    "scrolled": false
   },
   "outputs": [
    {
     "name": "stdout",
     "output_type": "stream",
     "text": [
      "Epoch 1/10\n"
     ]
    },
    {
     "name": "stderr",
     "output_type": "stream",
     "text": [
      "2022-07-18 23:03:05.731307: W tensorflow/core/common_runtime/bfc_allocator.cc:479] Allocator (GPU_0_bfc) ran out of memory trying to allocate 324.00MiB (rounded to 339738624)requested by op Adam/gradients/AddN/tmp_var_zeros\n",
      "If the cause is memory fragmentation maybe the environment variable 'TF_GPU_ALLOCATOR=cuda_malloc_async' will improve the situation. \n",
      "Current allocation summary follows.\n",
      "Current allocation summary follows.\n",
      "2022-07-18 23:03:05.732023: I tensorflow/core/common_runtime/bfc_allocator.cc:1027] BFCAllocator dump for GPU_0_bfc\n",
      "2022-07-18 23:03:05.732092: I tensorflow/core/common_runtime/bfc_allocator.cc:1034] Bin (256): \tTotal Chunks: 103, Chunks in use: 103. 25.8KiB allocated for chunks. 25.8KiB in use in bin. 15.7KiB client-requested in use in bin.\n",
      "2022-07-18 23:03:05.732120: I tensorflow/core/common_runtime/bfc_allocator.cc:1034] Bin (512): \tTotal Chunks: 21, Chunks in use: 21. 10.5KiB allocated for chunks. 10.5KiB in use in bin. 10.5KiB client-requested in use in bin.\n",
      "2022-07-18 23:03:05.732143: I tensorflow/core/common_runtime/bfc_allocator.cc:1034] Bin (1024): \tTotal Chunks: 22, Chunks in use: 22. 23.0KiB allocated for chunks. 23.0KiB in use in bin. 22.0KiB client-requested in use in bin.\n",
      "2022-07-18 23:03:05.732166: I tensorflow/core/common_runtime/bfc_allocator.cc:1034] Bin (2048): \tTotal Chunks: 0, Chunks in use: 0. 0B allocated for chunks. 0B in use in bin. 0B client-requested in use in bin.\n",
      "2022-07-18 23:03:05.732189: I tensorflow/core/common_runtime/bfc_allocator.cc:1034] Bin (4096): \tTotal Chunks: 5, Chunks in use: 5. 34.0KiB allocated for chunks. 34.0KiB in use in bin. 33.8KiB client-requested in use in bin.\n",
      "2022-07-18 23:03:05.732211: I tensorflow/core/common_runtime/bfc_allocator.cc:1034] Bin (8192): \tTotal Chunks: 5, Chunks in use: 5. 48.0KiB allocated for chunks. 48.0KiB in use in bin. 45.0KiB client-requested in use in bin.\n",
      "2022-07-18 23:03:05.732230: I tensorflow/core/common_runtime/bfc_allocator.cc:1034] Bin (16384): \tTotal Chunks: 0, Chunks in use: 0. 0B allocated for chunks. 0B in use in bin. 0B client-requested in use in bin.\n",
      "2022-07-18 23:03:05.732249: I tensorflow/core/common_runtime/bfc_allocator.cc:1034] Bin (32768): \tTotal Chunks: 0, Chunks in use: 0. 0B allocated for chunks. 0B in use in bin. 0B client-requested in use in bin.\n",
      "2022-07-18 23:03:05.732270: I tensorflow/core/common_runtime/bfc_allocator.cc:1034] Bin (65536): \tTotal Chunks: 20, Chunks in use: 20. 1.31MiB allocated for chunks. 1.31MiB in use in bin. 1.25MiB client-requested in use in bin.\n",
      "2022-07-18 23:03:05.732288: I tensorflow/core/common_runtime/bfc_allocator.cc:1034] Bin (131072): \tTotal Chunks: 0, Chunks in use: 0. 0B allocated for chunks. 0B in use in bin. 0B client-requested in use in bin.\n",
      "2022-07-18 23:03:05.732308: I tensorflow/core/common_runtime/bfc_allocator.cc:1034] Bin (262144): \tTotal Chunks: 5, Chunks in use: 5. 1.65MiB allocated for chunks. 1.65MiB in use in bin. 1.41MiB client-requested in use in bin.\n",
      "2022-07-18 23:03:05.732327: I tensorflow/core/common_runtime/bfc_allocator.cc:1034] Bin (524288): \tTotal Chunks: 0, Chunks in use: 0. 0B allocated for chunks. 0B in use in bin. 0B client-requested in use in bin.\n",
      "2022-07-18 23:03:05.732350: I tensorflow/core/common_runtime/bfc_allocator.cc:1034] Bin (1048576): \tTotal Chunks: 10, Chunks in use: 10. 11.53MiB allocated for chunks. 11.53MiB in use in bin. 11.25MiB client-requested in use in bin.\n",
      "2022-07-18 23:03:05.732369: I tensorflow/core/common_runtime/bfc_allocator.cc:1034] Bin (2097152): \tTotal Chunks: 0, Chunks in use: 0. 0B allocated for chunks. 0B in use in bin. 0B client-requested in use in bin.\n",
      "2022-07-18 23:03:05.732388: I tensorflow/core/common_runtime/bfc_allocator.cc:1034] Bin (4194304): \tTotal Chunks: 0, Chunks in use: 0. 0B allocated for chunks. 0B in use in bin. 0B client-requested in use in bin.\n",
      "2022-07-18 23:03:05.732413: I tensorflow/core/common_runtime/bfc_allocator.cc:1034] Bin (8388608): \tTotal Chunks: 0, Chunks in use: 0. 0B allocated for chunks. 0B in use in bin. 0B client-requested in use in bin.\n",
      "2022-07-18 23:03:05.732443: I tensorflow/core/common_runtime/bfc_allocator.cc:1034] Bin (16777216): \tTotal Chunks: 0, Chunks in use: 0. 0B allocated for chunks. 0B in use in bin. 0B client-requested in use in bin.\n",
      "2022-07-18 23:03:05.732463: I tensorflow/core/common_runtime/bfc_allocator.cc:1034] Bin (33554432): \tTotal Chunks: 0, Chunks in use: 0. 0B allocated for chunks. 0B in use in bin. 0B client-requested in use in bin.\n",
      "2022-07-18 23:03:05.732487: I tensorflow/core/common_runtime/bfc_allocator.cc:1034] Bin (67108864): \tTotal Chunks: 1, Chunks in use: 1. 107.58MiB allocated for chunks. 107.58MiB in use in bin. 107.58MiB client-requested in use in bin.\n",
      "2022-07-18 23:03:05.732517: I tensorflow/core/common_runtime/bfc_allocator.cc:1034] Bin (134217728): \tTotal Chunks: 2, Chunks in use: 1. 406.90MiB allocated for chunks. 215.16MiB in use in bin. 215.16MiB client-requested in use in bin.\n",
      "2022-07-18 23:03:05.732541: I tensorflow/core/common_runtime/bfc_allocator.cc:1034] Bin (268435456): \tTotal Chunks: 2, Chunks in use: 2. 968.20MiB allocated for chunks. 968.20MiB in use in bin. 968.20MiB client-requested in use in bin.\n",
      "2022-07-18 23:03:05.732562: I tensorflow/core/common_runtime/bfc_allocator.cc:1050] Bin for 324.00MiB was 256.00MiB, Chunk State: \n",
      "2022-07-18 23:03:05.732578: I tensorflow/core/common_runtime/bfc_allocator.cc:1063] Next region of size 1570045952\n",
      "2022-07-18 23:03:05.733785: I tensorflow/core/common_runtime/bfc_allocator.cc:1083] InUse at 501200000 of size 1280 next 1\n",
      "2022-07-18 23:03:05.733841: I tensorflow/core/common_runtime/bfc_allocator.cc:1083] InUse at 501200500 of size 256 next 2\n",
      "2022-07-18 23:03:05.733873: I tensorflow/core/common_runtime/bfc_allocator.cc:1083] InUse at 501200600 of size 256 next 3\n",
      "2022-07-18 23:03:05.733899: I tensorflow/core/common_runtime/bfc_allocator.cc:1083] InUse at 501200700 of size 256 next 4\n",
      "2022-07-18 23:03:05.733915: I tensorflow/core/common_runtime/bfc_allocator.cc:1083] InUse at 501200800 of size 256 next 5\n",
      "2022-07-18 23:03:05.733930: I tensorflow/core/common_runtime/bfc_allocator.cc:1083] InUse at 501200900 of size 256 next 8\n",
      "2022-07-18 23:03:05.733945: I tensorflow/core/common_runtime/bfc_allocator.cc:1083] InUse at 501200a00 of size 256 next 9\n",
      "2022-07-18 23:03:05.733960: I tensorflow/core/common_runtime/bfc_allocator.cc:1083] InUse at 501200b00 of size 256 next 10\n",
      "2022-07-18 23:03:05.733975: I tensorflow/core/common_runtime/bfc_allocator.cc:1083] InUse at 501200c00 of size 256 next 11\n",
      "2022-07-18 23:03:05.733990: I tensorflow/core/common_runtime/bfc_allocator.cc:1083] InUse at 501200d00 of size 256 next 12\n",
      "2022-07-18 23:03:05.734005: I tensorflow/core/common_runtime/bfc_allocator.cc:1083] InUse at 501200e00 of size 256 next 13\n",
      "2022-07-18 23:03:05.734019: I tensorflow/core/common_runtime/bfc_allocator.cc:1083] InUse at 501200f00 of size 256 next 14\n",
      "2022-07-18 23:03:05.734037: I tensorflow/core/common_runtime/bfc_allocator.cc:1083] InUse at 501201000 of size 512 next 15\n",
      "2022-07-18 23:03:05.734064: I tensorflow/core/common_runtime/bfc_allocator.cc:1083] InUse at 501201200 of size 512 next 18\n",
      "2022-07-18 23:03:05.734081: I tensorflow/core/common_runtime/bfc_allocator.cc:1083] InUse at 501201400 of size 512 next 19\n",
      "2022-07-18 23:03:05.734096: I tensorflow/core/common_runtime/bfc_allocator.cc:1083] InUse at 501201600 of size 512 next 20\n",
      "2022-07-18 23:03:05.734111: I tensorflow/core/common_runtime/bfc_allocator.cc:1083] InUse at 501201800 of size 512 next 21\n",
      "2022-07-18 23:03:05.734135: I tensorflow/core/common_runtime/bfc_allocator.cc:1083] InUse at 501201a00 of size 256 next 22\n",
      "2022-07-18 23:03:05.734163: I tensorflow/core/common_runtime/bfc_allocator.cc:1083] InUse at 501201b00 of size 256 next 23\n",
      "2022-07-18 23:03:05.734192: I tensorflow/core/common_runtime/bfc_allocator.cc:1083] InUse at 501201c00 of size 1024 next 24\n",
      "2022-07-18 23:03:05.734219: I tensorflow/core/common_runtime/bfc_allocator.cc:1083] InUse at 501202000 of size 1024 next 27\n",
      "2022-07-18 23:03:05.734247: I tensorflow/core/common_runtime/bfc_allocator.cc:1083] InUse at 501202400 of size 1024 next 28\n",
      "2022-07-18 23:03:05.734274: I tensorflow/core/common_runtime/bfc_allocator.cc:1083] InUse at 501202800 of size 1024 next 29\n",
      "2022-07-18 23:03:05.734300: I tensorflow/core/common_runtime/bfc_allocator.cc:1083] InUse at 501202c00 of size 1024 next 30\n",
      "2022-07-18 23:03:05.734356: I tensorflow/core/common_runtime/bfc_allocator.cc:1083] InUse at 501203000 of size 256 next 31\n",
      "2022-07-18 23:03:05.734388: I tensorflow/core/common_runtime/bfc_allocator.cc:1083] InUse at 501203100 of size 256 next 32\n",
      "2022-07-18 23:03:05.734421: I tensorflow/core/common_runtime/bfc_allocator.cc:1083] InUse at 501203200 of size 256 next 33\n",
      "2022-07-18 23:03:05.734438: I tensorflow/core/common_runtime/bfc_allocator.cc:1083] InUse at 501203300 of size 256 next 36\n",
      "2022-07-18 23:03:05.734453: I tensorflow/core/common_runtime/bfc_allocator.cc:1083] InUse at 501203400 of size 256 next 38\n",
      "2022-07-18 23:03:05.734468: I tensorflow/core/common_runtime/bfc_allocator.cc:1083] InUse at 501203500 of size 256 next 40\n",
      "2022-07-18 23:03:05.734488: I tensorflow/core/common_runtime/bfc_allocator.cc:1083] InUse at 501203600 of size 256 next 42\n",
      "2022-07-18 23:03:05.734514: I tensorflow/core/common_runtime/bfc_allocator.cc:1083] InUse at 501203700 of size 256 next 43\n",
      "2022-07-18 23:03:05.734531: I tensorflow/core/common_runtime/bfc_allocator.cc:1083] InUse at 501203800 of size 256 next 44\n",
      "2022-07-18 23:03:05.734545: I tensorflow/core/common_runtime/bfc_allocator.cc:1083] InUse at 501203900 of size 256 next 46\n",
      "2022-07-18 23:03:05.734561: I tensorflow/core/common_runtime/bfc_allocator.cc:1083] InUse at 501203a00 of size 256 next 47\n",
      "2022-07-18 23:03:05.734575: I tensorflow/core/common_runtime/bfc_allocator.cc:1083] InUse at 501203b00 of size 256 next 48\n",
      "2022-07-18 23:03:05.734590: I tensorflow/core/common_runtime/bfc_allocator.cc:1083] InUse at 501203c00 of size 256 next 49\n",
      "2022-07-18 23:03:05.734605: I tensorflow/core/common_runtime/bfc_allocator.cc:1083] InUse at 501203d00 of size 256 next 6\n",
      "2022-07-18 23:03:05.734634: I tensorflow/core/common_runtime/bfc_allocator.cc:1083] InUse at 501203e00 of size 6912 next 7\n",
      "2022-07-18 23:03:05.734647: I tensorflow/core/common_runtime/bfc_allocator.cc:1083] InUse at 501205900 of size 256 next 50\n",
      "2022-07-18 23:03:05.734659: I tensorflow/core/common_runtime/bfc_allocator.cc:1083] InUse at 501205a00 of size 256 next 51\n",
      "2022-07-18 23:03:05.734671: I tensorflow/core/common_runtime/bfc_allocator.cc:1083] InUse at 501205b00 of size 256 next 52\n",
      "2022-07-18 23:03:05.734683: I tensorflow/core/common_runtime/bfc_allocator.cc:1083] InUse at 501205c00 of size 256 next 55\n",
      "2022-07-18 23:03:05.734695: I tensorflow/core/common_runtime/bfc_allocator.cc:1083] InUse at 501205d00 of size 256 next 56\n",
      "2022-07-18 23:03:05.734708: I tensorflow/core/common_runtime/bfc_allocator.cc:1083] InUse at 501205e00 of size 256 next 58\n",
      "2022-07-18 23:03:05.734720: I tensorflow/core/common_runtime/bfc_allocator.cc:1083] InUse at 501205f00 of size 256 next 59\n",
      "2022-07-18 23:03:05.734732: I tensorflow/core/common_runtime/bfc_allocator.cc:1083] InUse at 501206000 of size 256 next 60\n",
      "2022-07-18 23:03:05.734744: I tensorflow/core/common_runtime/bfc_allocator.cc:1083] InUse at 501206100 of size 512 next 61\n",
      "2022-07-18 23:03:05.734757: I tensorflow/core/common_runtime/bfc_allocator.cc:1083] InUse at 501206300 of size 512 next 64\n",
      "2022-07-18 23:03:05.734769: I tensorflow/core/common_runtime/bfc_allocator.cc:1083] InUse at 501206500 of size 512 next 65\n",
      "2022-07-18 23:03:05.734781: I tensorflow/core/common_runtime/bfc_allocator.cc:1083] InUse at 501206700 of size 512 next 66\n",
      "2022-07-18 23:03:05.734793: I tensorflow/core/common_runtime/bfc_allocator.cc:1083] InUse at 501206900 of size 512 next 67\n",
      "2022-07-18 23:03:05.734806: I tensorflow/core/common_runtime/bfc_allocator.cc:1083] InUse at 501206b00 of size 1024 next 70\n",
      "2022-07-18 23:03:05.734818: I tensorflow/core/common_runtime/bfc_allocator.cc:1083] InUse at 501206f00 of size 1024 next 71\n",
      "2022-07-18 23:03:05.734830: I tensorflow/core/common_runtime/bfc_allocator.cc:1083] InUse at 501207300 of size 1024 next 72\n",
      "2022-07-18 23:03:05.734842: I tensorflow/core/common_runtime/bfc_allocator.cc:1083] InUse at 501207700 of size 1024 next 73\n",
      "2022-07-18 23:03:05.734855: I tensorflow/core/common_runtime/bfc_allocator.cc:1083] InUse at 501207b00 of size 1024 next 74\n",
      "2022-07-18 23:03:05.734867: I tensorflow/core/common_runtime/bfc_allocator.cc:1083] InUse at 501207f00 of size 256 next 77\n",
      "2022-07-18 23:03:05.734879: I tensorflow/core/common_runtime/bfc_allocator.cc:1083] InUse at 501208000 of size 256 next 78\n",
      "2022-07-18 23:03:05.734894: I tensorflow/core/common_runtime/bfc_allocator.cc:1083] InUse at 501208100 of size 256 next 80\n",
      "2022-07-18 23:03:05.734906: I tensorflow/core/common_runtime/bfc_allocator.cc:1083] InUse at 501208200 of size 256 next 82\n",
      "2022-07-18 23:03:05.734918: I tensorflow/core/common_runtime/bfc_allocator.cc:1083] InUse at 501208300 of size 256 next 84\n",
      "2022-07-18 23:03:05.734931: I tensorflow/core/common_runtime/bfc_allocator.cc:1083] InUse at 501208400 of size 256 next 85\n",
      "2022-07-18 23:03:05.734943: I tensorflow/core/common_runtime/bfc_allocator.cc:1083] InUse at 501208500 of size 256 next 86\n",
      "2022-07-18 23:03:05.734955: I tensorflow/core/common_runtime/bfc_allocator.cc:1083] InUse at 501208600 of size 256 next 87\n",
      "2022-07-18 23:03:05.734967: I tensorflow/core/common_runtime/bfc_allocator.cc:1083] InUse at 501208700 of size 256 next 88\n",
      "2022-07-18 23:03:05.734980: I tensorflow/core/common_runtime/bfc_allocator.cc:1083] InUse at 501208800 of size 256 next 89\n",
      "2022-07-18 23:03:05.734992: I tensorflow/core/common_runtime/bfc_allocator.cc:1083] InUse at 501208900 of size 256 next 92\n",
      "2022-07-18 23:03:05.735004: I tensorflow/core/common_runtime/bfc_allocator.cc:1083] InUse at 501208a00 of size 256 next 93\n",
      "2022-07-18 23:03:05.735016: I tensorflow/core/common_runtime/bfc_allocator.cc:1083] InUse at 501208b00 of size 256 next 94\n",
      "2022-07-18 23:03:05.735028: I tensorflow/core/common_runtime/bfc_allocator.cc:1083] InUse at 501208c00 of size 256 next 97\n",
      "2022-07-18 23:03:05.735040: I tensorflow/core/common_runtime/bfc_allocator.cc:1083] InUse at 501208d00 of size 256 next 98\n",
      "2022-07-18 23:03:05.735052: I tensorflow/core/common_runtime/bfc_allocator.cc:1083] InUse at 501208e00 of size 256 next 99\n",
      "2022-07-18 23:03:05.735065: I tensorflow/core/common_runtime/bfc_allocator.cc:1083] InUse at 501208f00 of size 256 next 101\n",
      "2022-07-18 23:03:05.735082: I tensorflow/core/common_runtime/bfc_allocator.cc:1083] InUse at 501209000 of size 256 next 102\n",
      "2022-07-18 23:03:05.735102: I tensorflow/core/common_runtime/bfc_allocator.cc:1083] InUse at 501209100 of size 256 next 103\n",
      "2022-07-18 23:03:05.735115: I tensorflow/core/common_runtime/bfc_allocator.cc:1083] InUse at 501209200 of size 256 next 104\n",
      "2022-07-18 23:03:05.735127: I tensorflow/core/common_runtime/bfc_allocator.cc:1083] InUse at 501209300 of size 512 next 107\n",
      "2022-07-18 23:03:05.735139: I tensorflow/core/common_runtime/bfc_allocator.cc:1083] InUse at 501209500 of size 512 next 108\n",
      "2022-07-18 23:03:05.735151: I tensorflow/core/common_runtime/bfc_allocator.cc:1083] InUse at 501209700 of size 512 next 109\n",
      "2022-07-18 23:03:05.735163: I tensorflow/core/common_runtime/bfc_allocator.cc:1083] InUse at 501209900 of size 512 next 110\n",
      "2022-07-18 23:03:05.735176: I tensorflow/core/common_runtime/bfc_allocator.cc:1083] InUse at 501209b00 of size 512 next 111\n",
      "2022-07-18 23:03:05.735189: I tensorflow/core/common_runtime/bfc_allocator.cc:1083] InUse at 501209d00 of size 1536 next 53\n",
      "2022-07-18 23:03:05.735202: I tensorflow/core/common_runtime/bfc_allocator.cc:1083] InUse at 50120a300 of size 9216 next 54\n",
      "2022-07-18 23:03:05.735217: I tensorflow/core/common_runtime/bfc_allocator.cc:1083] InUse at 50120c700 of size 6912 next 57\n",
      "2022-07-18 23:03:05.735230: I tensorflow/core/common_runtime/bfc_allocator.cc:1083] InUse at 50120e200 of size 96000 next 35\n",
      "2022-07-18 23:03:05.735243: I tensorflow/core/common_runtime/bfc_allocator.cc:1083] InUse at 501225900 of size 65536 next 34\n",
      "2022-07-18 23:03:05.735255: I tensorflow/core/common_runtime/bfc_allocator.cc:1083] InUse at 501235900 of size 65536 next 37\n",
      "2022-07-18 23:03:05.735267: I tensorflow/core/common_runtime/bfc_allocator.cc:1083] InUse at 501245900 of size 65536 next 39\n",
      "2022-07-18 23:03:05.735280: I tensorflow/core/common_runtime/bfc_allocator.cc:1083] InUse at 501255900 of size 65536 next 41\n",
      "2022-07-18 23:03:05.735292: I tensorflow/core/common_runtime/bfc_allocator.cc:1083] InUse at 501265900 of size 1024 next 114\n",
      "2022-07-18 23:03:05.735304: I tensorflow/core/common_runtime/bfc_allocator.cc:1083] InUse at 501265d00 of size 1024 next 115\n",
      "2022-07-18 23:03:05.735319: I tensorflow/core/common_runtime/bfc_allocator.cc:1083] InUse at 501266100 of size 1024 next 116\n",
      "2022-07-18 23:03:05.735331: I tensorflow/core/common_runtime/bfc_allocator.cc:1083] InUse at 501266500 of size 1024 next 117\n",
      "2022-07-18 23:03:05.735344: I tensorflow/core/common_runtime/bfc_allocator.cc:1083] InUse at 501266900 of size 256 next 120\n",
      "2022-07-18 23:03:05.735356: I tensorflow/core/common_runtime/bfc_allocator.cc:1083] InUse at 501266a00 of size 256 next 122\n",
      "2022-07-18 23:03:05.735368: I tensorflow/core/common_runtime/bfc_allocator.cc:1083] InUse at 501266b00 of size 256 next 123\n",
      "2022-07-18 23:03:05.735380: I tensorflow/core/common_runtime/bfc_allocator.cc:1083] InUse at 501266c00 of size 256 next 125\n",
      "2022-07-18 23:03:05.735392: I tensorflow/core/common_runtime/bfc_allocator.cc:1083] InUse at 501266d00 of size 256 next 127\n",
      "2022-07-18 23:03:05.735405: I tensorflow/core/common_runtime/bfc_allocator.cc:1083] InUse at 501266e00 of size 256 next 128\n",
      "2022-07-18 23:03:05.735426: I tensorflow/core/common_runtime/bfc_allocator.cc:1083] InUse at 501266f00 of size 256 next 129\n",
      "2022-07-18 23:03:05.735447: I tensorflow/core/common_runtime/bfc_allocator.cc:1083] InUse at 501267000 of size 256 next 130\n",
      "2022-07-18 23:03:05.735469: I tensorflow/core/common_runtime/bfc_allocator.cc:1083] InUse at 501267100 of size 256 next 131\n",
      "2022-07-18 23:03:05.735490: I tensorflow/core/common_runtime/bfc_allocator.cc:1083] InUse at 501267200 of size 256 next 145\n",
      "2022-07-18 23:03:05.735512: I tensorflow/core/common_runtime/bfc_allocator.cc:1083] InUse at 501267300 of size 256 next 146\n",
      "2022-07-18 23:03:05.735536: I tensorflow/core/common_runtime/bfc_allocator.cc:1083] InUse at 501267400 of size 256 next 147\n",
      "2022-07-18 23:03:05.735559: I tensorflow/core/common_runtime/bfc_allocator.cc:1083] InUse at 501267500 of size 512 next 148\n",
      "2022-07-18 23:03:05.735581: I tensorflow/core/common_runtime/bfc_allocator.cc:1083] InUse at 501267700 of size 512 next 149\n",
      "2022-07-18 23:03:05.735603: I tensorflow/core/common_runtime/bfc_allocator.cc:1083] InUse at 501267900 of size 512 next 150\n",
      "2022-07-18 23:03:05.735617: I tensorflow/core/common_runtime/bfc_allocator.cc:1083] InUse at 501267b00 of size 1024 next 151\n",
      "2022-07-18 23:03:05.735629: I tensorflow/core/common_runtime/bfc_allocator.cc:1083] InUse at 501267f00 of size 1024 next 152\n",
      "2022-07-18 23:03:05.735641: I tensorflow/core/common_runtime/bfc_allocator.cc:1083] InUse at 501268300 of size 1024 next 153\n",
      "2022-07-18 23:03:05.735654: I tensorflow/core/common_runtime/bfc_allocator.cc:1083] InUse at 501268700 of size 256 next 154\n",
      "2022-07-18 23:03:05.735666: I tensorflow/core/common_runtime/bfc_allocator.cc:1083] InUse at 501268800 of size 256 next 155\n",
      "2022-07-18 23:03:05.735678: I tensorflow/core/common_runtime/bfc_allocator.cc:1083] InUse at 501268900 of size 256 next 157\n",
      "2022-07-18 23:03:05.735690: I tensorflow/core/common_runtime/bfc_allocator.cc:1083] InUse at 501268a00 of size 256 next 159\n",
      "2022-07-18 23:03:05.735702: I tensorflow/core/common_runtime/bfc_allocator.cc:1083] InUse at 501268b00 of size 256 next 160\n",
      "2022-07-18 23:03:05.735714: I tensorflow/core/common_runtime/bfc_allocator.cc:1083] InUse at 501268c00 of size 256 next 161\n",
      "2022-07-18 23:03:05.735726: I tensorflow/core/common_runtime/bfc_allocator.cc:1083] InUse at 501268d00 of size 256 next 162\n",
      "2022-07-18 23:03:05.735738: I tensorflow/core/common_runtime/bfc_allocator.cc:1083] InUse at 501268e00 of size 256 next 163\n",
      "2022-07-18 23:03:05.735750: I tensorflow/core/common_runtime/bfc_allocator.cc:1083] InUse at 501268f00 of size 256 next 165\n"
     ]
    },
    {
     "name": "stderr",
     "output_type": "stream",
     "text": [
      "2022-07-18 23:03:05.735762: I tensorflow/core/common_runtime/bfc_allocator.cc:1083] InUse at 501269000 of size 256 next 166\n",
      "2022-07-18 23:03:05.735774: I tensorflow/core/common_runtime/bfc_allocator.cc:1083] InUse at 501269100 of size 256 next 167\n",
      "2022-07-18 23:03:05.735787: I tensorflow/core/common_runtime/bfc_allocator.cc:1083] InUse at 501269200 of size 512 next 168\n",
      "2022-07-18 23:03:05.735801: I tensorflow/core/common_runtime/bfc_allocator.cc:1083] InUse at 501269400 of size 512 next 169\n",
      "2022-07-18 23:03:05.735814: I tensorflow/core/common_runtime/bfc_allocator.cc:1083] InUse at 501269600 of size 512 next 170\n",
      "2022-07-18 23:03:05.735826: I tensorflow/core/common_runtime/bfc_allocator.cc:1083] InUse at 501269800 of size 1024 next 172\n",
      "2022-07-18 23:03:05.735838: I tensorflow/core/common_runtime/bfc_allocator.cc:1083] InUse at 501269c00 of size 1280 next 91\n",
      "2022-07-18 23:03:05.735851: I tensorflow/core/common_runtime/bfc_allocator.cc:1083] InUse at 50126a100 of size 9216 next 90\n",
      "2022-07-18 23:03:05.735863: I tensorflow/core/common_runtime/bfc_allocator.cc:1083] InUse at 50126c500 of size 6912 next 100\n",
      "2022-07-18 23:03:05.735875: I tensorflow/core/common_runtime/bfc_allocator.cc:1083] InUse at 50126e000 of size 256 next 132\n",
      "2022-07-18 23:03:05.735888: I tensorflow/core/common_runtime/bfc_allocator.cc:1083] InUse at 50126e100 of size 256 next 135\n",
      "2022-07-18 23:03:05.735900: I tensorflow/core/common_runtime/bfc_allocator.cc:1083] InUse at 50126e200 of size 256 next 136\n",
      "2022-07-18 23:03:05.735912: I tensorflow/core/common_runtime/bfc_allocator.cc:1083] InUse at 50126e300 of size 256 next 139\n",
      "2022-07-18 23:03:05.735924: I tensorflow/core/common_runtime/bfc_allocator.cc:1083] InUse at 50126e400 of size 256 next 140\n",
      "2022-07-18 23:03:05.735936: I tensorflow/core/common_runtime/bfc_allocator.cc:1083] InUse at 50126e500 of size 256 next 141\n",
      "2022-07-18 23:03:05.735950: I tensorflow/core/common_runtime/bfc_allocator.cc:1083] InUse at 50126e600 of size 256 next 142\n",
      "2022-07-18 23:03:05.735971: I tensorflow/core/common_runtime/bfc_allocator.cc:1083] InUse at 50126e700 of size 256 next 143\n",
      "2022-07-18 23:03:05.735988: I tensorflow/core/common_runtime/bfc_allocator.cc:1083] InUse at 50126e800 of size 256 next 144\n",
      "2022-07-18 23:03:05.736000: I tensorflow/core/common_runtime/bfc_allocator.cc:1083] InUse at 50126e900 of size 7168 next 133\n",
      "2022-07-18 23:03:05.736013: I tensorflow/core/common_runtime/bfc_allocator.cc:1083] InUse at 501270500 of size 9216 next 134\n",
      "2022-07-18 23:03:05.736026: I tensorflow/core/common_runtime/bfc_allocator.cc:1083] InUse at 501272900 of size 12288 next 76\n",
      "2022-07-18 23:03:05.736039: I tensorflow/core/common_runtime/bfc_allocator.cc:1083] InUse at 501275900 of size 65536 next 75\n",
      "2022-07-18 23:03:05.736051: I tensorflow/core/common_runtime/bfc_allocator.cc:1083] InUse at 501285900 of size 65536 next 17\n",
      "2022-07-18 23:03:05.736064: I tensorflow/core/common_runtime/bfc_allocator.cc:1083] InUse at 501295900 of size 294912 next 16\n",
      "2022-07-18 23:03:05.736078: I tensorflow/core/common_runtime/bfc_allocator.cc:1083] InUse at 5012dd900 of size 65536 next 79\n",
      "2022-07-18 23:03:05.736091: I tensorflow/core/common_runtime/bfc_allocator.cc:1083] InUse at 5012ed900 of size 65536 next 81\n",
      "2022-07-18 23:03:05.736103: I tensorflow/core/common_runtime/bfc_allocator.cc:1083] InUse at 5012fd900 of size 65536 next 124\n",
      "2022-07-18 23:03:05.736116: I tensorflow/core/common_runtime/bfc_allocator.cc:1083] InUse at 50130d900 of size 393216 next 63\n",
      "2022-07-18 23:03:05.736129: I tensorflow/core/common_runtime/bfc_allocator.cc:1083] InUse at 50136d900 of size 294912 next 62\n",
      "2022-07-18 23:03:05.736150: I tensorflow/core/common_runtime/bfc_allocator.cc:1083] InUse at 5013b5900 of size 1474560 next 26\n",
      "2022-07-18 23:03:05.736167: I tensorflow/core/common_runtime/bfc_allocator.cc:1083] InUse at 50151d900 of size 1179648 next 25\n",
      "2022-07-18 23:03:05.736180: I tensorflow/core/common_runtime/bfc_allocator.cc:1083] InUse at 50163d900 of size 1179648 next 45\n",
      "2022-07-18 23:03:05.736193: I tensorflow/core/common_runtime/bfc_allocator.cc:1083] InUse at 50175d900 of size 65536 next 119\n",
      "2022-07-18 23:03:05.736205: I tensorflow/core/common_runtime/bfc_allocator.cc:1083] InUse at 50176d900 of size 65536 next 118\n",
      "2022-07-18 23:03:05.736217: I tensorflow/core/common_runtime/bfc_allocator.cc:1083] InUse at 50177d900 of size 65536 next 121\n",
      "2022-07-18 23:03:05.736241: I tensorflow/core/common_runtime/bfc_allocator.cc:1083] InUse at 50178d900 of size 98304 next 106\n",
      "2022-07-18 23:03:05.736265: I tensorflow/core/common_runtime/bfc_allocator.cc:1083] InUse at 5017a5900 of size 294912 next 105\n",
      "2022-07-18 23:03:05.736288: I tensorflow/core/common_runtime/bfc_allocator.cc:1083] InUse at 5017ed900 of size 65536 next 156\n",
      "2022-07-18 23:03:05.736311: I tensorflow/core/common_runtime/bfc_allocator.cc:1083] InUse at 5017fd900 of size 65536 next 158\n",
      "2022-07-18 23:03:05.736335: I tensorflow/core/common_runtime/bfc_allocator.cc:1083] InUse at 50180d900 of size 6912 next 164\n",
      "2022-07-18 23:03:05.736360: I tensorflow/core/common_runtime/bfc_allocator.cc:1083] InUse at 50180f400 of size 451840 next 69\n",
      "2022-07-18 23:03:05.736385: I tensorflow/core/common_runtime/bfc_allocator.cc:1083] InUse at 50187d900 of size 1179648 next 68\n",
      "2022-07-18 23:03:05.736408: I tensorflow/core/common_runtime/bfc_allocator.cc:1083] InUse at 50199d900 of size 1179648 next 83\n",
      "2022-07-18 23:03:05.736433: I tensorflow/core/common_runtime/bfc_allocator.cc:1083] InUse at 501abd900 of size 676823040 next 95\n",
      "2022-07-18 23:03:05.736456: I tensorflow/core/common_runtime/bfc_allocator.cc:1083] InUse at 52a035900 of size 225607680 next 96\n",
      "2022-07-18 23:03:05.736470: I tensorflow/core/common_runtime/bfc_allocator.cc:1083] InUse at 53775d900 of size 1179648 next 113\n",
      "2022-07-18 23:03:05.736482: I tensorflow/core/common_runtime/bfc_allocator.cc:1083] InUse at 53787d900 of size 1179648 next 112\n",
      "2022-07-18 23:03:05.736495: I tensorflow/core/common_runtime/bfc_allocator.cc:1083] InUse at 53799d900 of size 1179648 next 126\n",
      "2022-07-18 23:03:05.736508: I tensorflow/core/common_runtime/bfc_allocator.cc:1083] InUse at 537abd900 of size 338411520 next 137\n",
      "2022-07-18 23:03:05.736530: I tensorflow/core/common_runtime/bfc_allocator.cc:1083] InUse at 54bd79900 of size 112803840 next 138\n",
      "2022-07-18 23:03:05.736548: I tensorflow/core/common_runtime/bfc_allocator.cc:1083] InUse at 55290d900 of size 1179648 next 171\n",
      "2022-07-18 23:03:05.736568: I tensorflow/core/common_runtime/bfc_allocator.cc:1083] InUse at 552a2d900 of size 1024 next 173\n",
      "2022-07-18 23:03:05.736591: I tensorflow/core/common_runtime/bfc_allocator.cc:1083] InUse at 552a2dd00 of size 65536 next 174\n",
      "2022-07-18 23:03:05.736610: I tensorflow/core/common_runtime/bfc_allocator.cc:1083] InUse at 552a3dd00 of size 256 next 175\n",
      "2022-07-18 23:03:05.736628: I tensorflow/core/common_runtime/bfc_allocator.cc:1083] InUse at 552a3de00 of size 65536 next 176\n",
      "2022-07-18 23:03:05.736647: I tensorflow/core/common_runtime/bfc_allocator.cc:1083] InUse at 552a4de00 of size 256 next 177\n",
      "2022-07-18 23:03:05.736660: I tensorflow/core/common_runtime/bfc_allocator.cc:1083] InUse at 552a4df00 of size 65536 next 178\n",
      "2022-07-18 23:03:05.736672: I tensorflow/core/common_runtime/bfc_allocator.cc:1083] InUse at 552a5df00 of size 256 next 179\n",
      "2022-07-18 23:03:05.736684: I tensorflow/core/common_runtime/bfc_allocator.cc:1083] InUse at 552a5e000 of size 65536 next 180\n",
      "2022-07-18 23:03:05.736697: I tensorflow/core/common_runtime/bfc_allocator.cc:1083] InUse at 552a6e000 of size 256 next 181\n",
      "2022-07-18 23:03:05.736709: I tensorflow/core/common_runtime/bfc_allocator.cc:1083] InUse at 552a6e100 of size 1179648 next 182\n",
      "2022-07-18 23:03:05.736722: I tensorflow/core/common_runtime/bfc_allocator.cc:1083] InUse at 552b8e100 of size 256 next 183\n",
      "2022-07-18 23:03:05.736734: I tensorflow/core/common_runtime/bfc_allocator.cc:1083] InUse at 552b8e200 of size 256 next 184\n",
      "2022-07-18 23:03:05.736746: I tensorflow/core/common_runtime/bfc_allocator.cc:1083] InUse at 552b8e300 of size 256 next 185\n",
      "2022-07-18 23:03:05.736759: I tensorflow/core/common_runtime/bfc_allocator.cc:1083] InUse at 552b8e400 of size 9216 next 186\n",
      "2022-07-18 23:03:05.736771: I tensorflow/core/common_runtime/bfc_allocator.cc:1083] InUse at 552b90800 of size 256 next 187\n",
      "2022-07-18 23:03:05.736788: I tensorflow/core/common_runtime/bfc_allocator.cc:1083] InUse at 552b90900 of size 256 next 188\n",
      "2022-07-18 23:03:05.736814: I tensorflow/core/common_runtime/bfc_allocator.cc:1083] InUse at 552b90a00 of size 256 next 189\n",
      "2022-07-18 23:03:05.736828: I tensorflow/core/common_runtime/bfc_allocator.cc:1083] InUse at 552b90b00 of size 256 next 190\n",
      "2022-07-18 23:03:05.736840: I tensorflow/core/common_runtime/bfc_allocator.cc:1083] InUse at 552b90c00 of size 256 next 191\n",
      "2022-07-18 23:03:05.736852: I tensorflow/core/common_runtime/bfc_allocator.cc:1083] InUse at 552b90d00 of size 256 next 192\n",
      "2022-07-18 23:03:05.736864: I tensorflow/core/common_runtime/bfc_allocator.cc:1083] InUse at 552b90e00 of size 256 next 193\n",
      "2022-07-18 23:03:05.736876: I tensorflow/core/common_runtime/bfc_allocator.cc:1083] InUse at 552b90f00 of size 256 next 194\n",
      "2022-07-18 23:03:05.736888: I tensorflow/core/common_runtime/bfc_allocator.cc:1083] InUse at 552b91000 of size 256 next 195\n",
      "2022-07-18 23:03:05.736901: I tensorflow/core/common_runtime/bfc_allocator.cc:1083] Free  at 552b91100 of size 201060096 next 18446744073709551615\n",
      "2022-07-18 23:03:05.736913: I tensorflow/core/common_runtime/bfc_allocator.cc:1088]      Summary of in-use Chunks by size: \n",
      "2022-07-18 23:03:05.736937: I tensorflow/core/common_runtime/bfc_allocator.cc:1091] 103 Chunks of size 256 totalling 25.8KiB\n",
      "2022-07-18 23:03:05.736954: I tensorflow/core/common_runtime/bfc_allocator.cc:1091] 21 Chunks of size 512 totalling 10.5KiB\n",
      "2022-07-18 23:03:05.736969: I tensorflow/core/common_runtime/bfc_allocator.cc:1091] 19 Chunks of size 1024 totalling 19.0KiB\n",
      "2022-07-18 23:03:05.736983: I tensorflow/core/common_runtime/bfc_allocator.cc:1091] 2 Chunks of size 1280 totalling 2.5KiB\n",
      "2022-07-18 23:03:05.736997: I tensorflow/core/common_runtime/bfc_allocator.cc:1091] 1 Chunks of size 1536 totalling 1.5KiB\n",
      "2022-07-18 23:03:05.737012: I tensorflow/core/common_runtime/bfc_allocator.cc:1091] 4 Chunks of size 6912 totalling 27.0KiB\n",
      "2022-07-18 23:03:05.737026: I tensorflow/core/common_runtime/bfc_allocator.cc:1091] 1 Chunks of size 7168 totalling 7.0KiB\n",
      "2022-07-18 23:03:05.737047: I tensorflow/core/common_runtime/bfc_allocator.cc:1091] 4 Chunks of size 9216 totalling 36.0KiB\n",
      "2022-07-18 23:03:05.737066: I tensorflow/core/common_runtime/bfc_allocator.cc:1091] 1 Chunks of size 12288 totalling 12.0KiB\n",
      "2022-07-18 23:03:05.737080: I tensorflow/core/common_runtime/bfc_allocator.cc:1091] 18 Chunks of size 65536 totalling 1.12MiB\n",
      "2022-07-18 23:03:05.737095: I tensorflow/core/common_runtime/bfc_allocator.cc:1091] 1 Chunks of size 96000 totalling 93.8KiB\n",
      "2022-07-18 23:03:05.737110: I tensorflow/core/common_runtime/bfc_allocator.cc:1091] 1 Chunks of size 98304 totalling 96.0KiB\n",
      "2022-07-18 23:03:05.737125: I tensorflow/core/common_runtime/bfc_allocator.cc:1091] 3 Chunks of size 294912 totalling 864.0KiB\n",
      "2022-07-18 23:03:05.737139: I tensorflow/core/common_runtime/bfc_allocator.cc:1091] 1 Chunks of size 393216 totalling 384.0KiB\n",
      "2022-07-18 23:03:05.737154: I tensorflow/core/common_runtime/bfc_allocator.cc:1091] 1 Chunks of size 451840 totalling 441.2KiB\n",
      "2022-07-18 23:03:05.737177: I tensorflow/core/common_runtime/bfc_allocator.cc:1091] 9 Chunks of size 1179648 totalling 10.12MiB\n",
      "2022-07-18 23:03:05.737202: I tensorflow/core/common_runtime/bfc_allocator.cc:1091] 1 Chunks of size 1474560 totalling 1.41MiB\n",
      "2022-07-18 23:03:05.737229: I tensorflow/core/common_runtime/bfc_allocator.cc:1091] 1 Chunks of size 112803840 totalling 107.58MiB\n",
      "2022-07-18 23:03:05.737256: I tensorflow/core/common_runtime/bfc_allocator.cc:1091] 1 Chunks of size 225607680 totalling 215.16MiB\n",
      "2022-07-18 23:03:05.737285: I tensorflow/core/common_runtime/bfc_allocator.cc:1091] 1 Chunks of size 338411520 totalling 322.73MiB\n",
      "2022-07-18 23:03:05.737313: I tensorflow/core/common_runtime/bfc_allocator.cc:1091] 1 Chunks of size 676823040 totalling 645.47MiB\n",
      "2022-07-18 23:03:05.737339: I tensorflow/core/common_runtime/bfc_allocator.cc:1095] Sum Total of in-use chunks: 1.27GiB\n",
      "2022-07-18 23:03:05.737358: I tensorflow/core/common_runtime/bfc_allocator.cc:1097] total_region_allocated_bytes_: 1570045952 memory_limit_: 1570045952 available bytes: 0 curr_region_allocation_bytes_: 3140091904\n",
      "2022-07-18 23:03:05.738911: I tensorflow/core/common_runtime/bfc_allocator.cc:1103] Stats: \n",
      "Limit:                      1570045952\n",
      "InUse:                      1368985856\n",
      "MaxInUse:                   1368985856\n",
      "NumAllocs:                         276\n",
      "MaxAllocSize:                676823040\n",
      "Reserved:                            0\n",
      "PeakReserved:                        0\n",
      "LargestFreeBlock:                    0\n",
      "\n",
      "2022-07-18 23:03:05.738974: W tensorflow/core/common_runtime/bfc_allocator.cc:491] ****************************************************************************************____________\n",
      "2022-07-18 23:03:05.745379: W tensorflow/core/framework/op_kernel.cc:1722] OP_REQUIRES failed at constant_op.cc:81 : RESOURCE_EXHAUSTED: OOM when allocating tensor of shape [1,256,432,768] and type float\n"
     ]
    },
    {
     "ename": "ResourceExhaustedError",
     "evalue": "Graph execution error:\n\nOOM when allocating tensor of shape [1,256,432,768] and type float\n\t [[{{node Adam/gradients/AddN/tmp_var_zeros}}]] [Op:__inference_train_function_2848]",
     "output_type": "error",
     "traceback": [
      "\u001b[0;31m---------------------------------------------------------------------------\u001b[0m",
      "\u001b[0;31mResourceExhaustedError\u001b[0m                    Traceback (most recent call last)",
      "Input \u001b[0;32mIn [32]\u001b[0m, in \u001b[0;36m<cell line: 2>\u001b[0;34m()\u001b[0m\n\u001b[1;32m      1\u001b[0m \u001b[38;5;66;03m# Обучаем модель\u001b[39;00m\n\u001b[0;32m----> 2\u001b[0m history \u001b[38;5;241m=\u001b[39m \u001b[43mmodelPSPnet\u001b[49m\u001b[38;5;241;43m.\u001b[39;49m\u001b[43mfit\u001b[49m\u001b[43m(\u001b[49m\u001b[43mx_train\u001b[49m\u001b[43m,\u001b[49m\u001b[43m \u001b[49m\u001b[43my_train\u001b[49m\u001b[43m,\u001b[49m\u001b[43m \u001b[49m\u001b[43mepochs\u001b[49m\u001b[38;5;241;43m=\u001b[39;49m\u001b[38;5;241;43m10\u001b[39;49m\u001b[43m,\u001b[49m\u001b[43m \u001b[49m\u001b[43mbatch_size\u001b[49m\u001b[38;5;241;43m=\u001b[39;49m\u001b[38;5;241;43m1\u001b[39;49m\u001b[43m,\u001b[49m\u001b[43m \u001b[49m\u001b[43mvalidation_data\u001b[49m\u001b[43m \u001b[49m\u001b[38;5;241;43m=\u001b[39;49m\u001b[43m \u001b[49m\u001b[43m(\u001b[49m\u001b[43mx_val\u001b[49m\u001b[43m,\u001b[49m\u001b[43m \u001b[49m\u001b[43my_val\u001b[49m\u001b[43m)\u001b[49m\u001b[43m)\u001b[49m\n",
      "File \u001b[0;32m~/anaconda3/envs/py39/lib/python3.9/site-packages/keras/utils/traceback_utils.py:67\u001b[0m, in \u001b[0;36mfilter_traceback.<locals>.error_handler\u001b[0;34m(*args, **kwargs)\u001b[0m\n\u001b[1;32m     65\u001b[0m \u001b[38;5;28;01mexcept\u001b[39;00m \u001b[38;5;167;01mException\u001b[39;00m \u001b[38;5;28;01mas\u001b[39;00m e:  \u001b[38;5;66;03m# pylint: disable=broad-except\u001b[39;00m\n\u001b[1;32m     66\u001b[0m   filtered_tb \u001b[38;5;241m=\u001b[39m _process_traceback_frames(e\u001b[38;5;241m.\u001b[39m__traceback__)\n\u001b[0;32m---> 67\u001b[0m   \u001b[38;5;28;01mraise\u001b[39;00m e\u001b[38;5;241m.\u001b[39mwith_traceback(filtered_tb) \u001b[38;5;28;01mfrom\u001b[39;00m \u001b[38;5;28mNone\u001b[39m\n\u001b[1;32m     68\u001b[0m \u001b[38;5;28;01mfinally\u001b[39;00m:\n\u001b[1;32m     69\u001b[0m   \u001b[38;5;28;01mdel\u001b[39;00m filtered_tb\n",
      "File \u001b[0;32m~/anaconda3/envs/py39/lib/python3.9/site-packages/tensorflow/python/eager/execute.py:54\u001b[0m, in \u001b[0;36mquick_execute\u001b[0;34m(op_name, num_outputs, inputs, attrs, ctx, name)\u001b[0m\n\u001b[1;32m     52\u001b[0m \u001b[38;5;28;01mtry\u001b[39;00m:\n\u001b[1;32m     53\u001b[0m   ctx\u001b[38;5;241m.\u001b[39mensure_initialized()\n\u001b[0;32m---> 54\u001b[0m   tensors \u001b[38;5;241m=\u001b[39m pywrap_tfe\u001b[38;5;241m.\u001b[39mTFE_Py_Execute(ctx\u001b[38;5;241m.\u001b[39m_handle, device_name, op_name,\n\u001b[1;32m     55\u001b[0m                                       inputs, attrs, num_outputs)\n\u001b[1;32m     56\u001b[0m \u001b[38;5;28;01mexcept\u001b[39;00m core\u001b[38;5;241m.\u001b[39m_NotOkStatusException \u001b[38;5;28;01mas\u001b[39;00m e:\n\u001b[1;32m     57\u001b[0m   \u001b[38;5;28;01mif\u001b[39;00m name \u001b[38;5;129;01mis\u001b[39;00m \u001b[38;5;129;01mnot\u001b[39;00m \u001b[38;5;28;01mNone\u001b[39;00m:\n",
      "\u001b[0;31mResourceExhaustedError\u001b[0m: Graph execution error:\n\nOOM when allocating tensor of shape [1,256,432,768] and type float\n\t [[{{node Adam/gradients/AddN/tmp_var_zeros}}]] [Op:__inference_train_function_2848]"
     ]
    }
   ],
   "source": [
    "# Обучаем модель\n",
    "history = modelPSPnet.fit(x_train, y_train, epochs=10, batch_size=1, validation_data = (x_val, y_val)) "
   ]
  }
 ],
 "metadata": {
  "celltoolbar": "Необработанный формат ячейки",
  "kernelspec": {
   "display_name": "py39",
   "language": "python",
   "name": "py39"
  },
  "language_info": {
   "codemirror_mode": {
    "name": "ipython",
    "version": 3
   },
   "file_extension": ".py",
   "mimetype": "text/x-python",
   "name": "python",
   "nbconvert_exporter": "python",
   "pygments_lexer": "ipython3",
   "version": "3.9.13"
  }
 },
 "nbformat": 4,
 "nbformat_minor": 4
}
