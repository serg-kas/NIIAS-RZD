{
 "cells": [
  {
   "cell_type": "markdown",
   "metadata": {
    "cellId": "evzpadrdn0v5s98kkyhcyi",
    "execution_id": "fff859c5-b71a-4422-9be6-d6b7bc6c1b74"
   },
   "source": [
    "### Создание и обучение модели для сегментации"
   ]
  },
  {
   "cell_type": "code",
   "execution_count": 100,
   "metadata": {
    "cellId": "4l86dcv5z58oqcpmxc4j6p"
   },
   "outputs": [],
   "source": [
    "#!g1.1\n",
    "import numpy as np \n",
    "import time\n",
    "import random\n",
    "import os\n",
    "\n",
    "import tensorflow as tf\n",
    "from tensorflow.keras.models import Model       \n",
    "from tensorflow.keras.layers import Input, Conv2DTranspose, concatenate, Activation, MaxPooling2D, Conv2D, BatchNormalization\n",
    "from tensorflow.keras.layers import Reshape, GlobalAveragePooling2D, UpSampling2D, AveragePooling2D\n",
    "from tensorflow.keras import backend as K        \n",
    "from tensorflow.keras.optimizers import Adam     \n",
    "from tensorflow.keras import utils               \n",
    "from tensorflow.keras.preprocessing import image \n",
    "from sklearn.model_selection import train_test_split\n",
    "from keras.models import load_model\n",
    "\n",
    "import matplotlib.pyplot as plt  \n",
    "# from PIL import Image "
   ]
  },
  {
   "cell_type": "code",
   "execution_count": 101,
   "metadata": {
    "cellId": "wnfb0hzdetjymu8mj9qz"
   },
   "outputs": [],
   "source": [
    "#!g1.1\n",
    "SEED = 1111\n",
    "random.seed(SEED)\n",
    "np.random.seed(SEED)\n",
    "tf.random.set_seed(SEED)"
   ]
  },
  {
   "cell_type": "code",
   "execution_count": 102,
   "metadata": {
    "cellId": "bmwxv5kcvxspz51dvywuha"
   },
   "outputs": [],
   "source": [
    "#!g1.1\n",
    "# Путь к сохраненным выборкам\n",
    "data_path = \"/home/jupyter/work/resources/NIIAS-RZD/data_np\"\n",
    "# Путь для сохранения моделей\n",
    "model_path = \"/home/jupyter/work/resources/NIIAS-RZD/models\""
   ]
  },
  {
   "cell_type": "code",
   "execution_count": 115,
   "metadata": {
    "cellId": "oo0pes17ezsjvld4jr06k"
   },
   "outputs": [
    {
     "name": "stdout",
     "output_type": "stream",
     "text": [
      "Имеем 40 сохраненных выборок\n"
     ]
    }
   ],
   "source": [
    "#!g1.1\n",
    "# Список выборок\n",
    "np_files  = []\n",
    "for file_name in sorted(os.listdir(data_path)):\n",
    "    if 'data' in file_name:\n",
    "        np_files.append(file_name)\n",
    "print(\"Имеем {} сохраненных выборок\".format(len(np_files)))"
   ]
  },
  {
   "cell_type": "code",
   "execution_count": 104,
   "metadata": {
    "cellId": "bbaqagb30dit69m2i919"
   },
   "outputs": [
    {
     "name": "stdout",
     "output_type": "stream",
     "text": [
      "data14.npz\n",
      "(800, 432, 768, 3) (800, 432, 768, 4)\n"
     ]
    },
    {
     "name": "stderr",
     "output_type": "stream",
     "text": [
      "/kernel/lib/python3.8/site-packages/ml_kernel/kernel.py:873: UserWarning: The following variables cannot be serialized: data\n",
      "  warnings.warn(message)\n"
     ]
    }
   ],
   "source": [
    "#!g1.1\n",
    "# Загрузим пример сохраненной выборки\n",
    "np_file = random.choice(np_files)\n",
    "print(np_file)\n",
    "data = np.load(os.path.join(data_path, np_file))\n",
    "images_np = data['a']\n",
    "anns_np = data['b']\n",
    "print(images_np.shape, anns_np.shape)"
   ]
  },
  {
   "cell_type": "code",
   "execution_count": 105,
   "metadata": {
    "cellId": "eqqugvy63qcdsihanih5ql"
   },
   "outputs": [
    {
     "name": "stdout",
     "output_type": "stream",
     "text": [
      "432 768\n"
     ]
    }
   ],
   "source": [
    "#!g1.1\n",
    "# Размеры, изображения\n",
    "img_height = images_np.shape[1]      # 432\n",
    "img_width = images_np.shape[2]       # 768\n",
    "print(img_height, img_width)"
   ]
  },
  {
   "cell_type": "code",
   "execution_count": 106,
   "metadata": {
    "cellId": "5jlwrrwadtwdoj34xw913s"
   },
   "outputs": [
    {
     "name": "stdout",
     "output_type": "stream",
     "text": [
      "4\n"
     ]
    }
   ],
   "source": [
    "#!g1.1\n",
    "# Классов сегментации\n",
    "classes = [0, 6, 7, 10]\n",
    "num_classes = len(classes)\n",
    "print(num_classes)"
   ]
  },
  {
   "cell_type": "markdown",
   "metadata": {
    "cellId": "5yj8ekt72sd1tvujjvzb1x",
    "execution_id": "95abb47d-c1cd-4284-b3fd-3862ebd5ca01"
   },
   "source": [
    "### Создание Unet"
   ]
  },
  {
   "cell_type": "code",
   "execution_count": 107,
   "metadata": {
    "cellId": "5658qykr0ye0vm771671l3g"
   },
   "outputs": [],
   "source": [
    "#!g1.1\n",
    "# Функция метрики, обрабатывающая пересечение двух областей\n",
    "def dice_coef(y_true, y_pred):\n",
    "  # Возвращаем площадь пересечения деленную на площадь объединения двух областей\n",
    "  return (2. * K.sum(y_true * y_pred) + 1.) / (K.sum(y_true) + K.sum(y_pred) + 1.) "
   ]
  },
  {
   "cell_type": "code",
   "execution_count": 108,
   "metadata": {
    "cellId": "1o1k30yzdayn3gpfwe43u9"
   },
   "outputs": [],
   "source": [
    "#!g1.1\n",
    "'''\n",
    "  Функция создания сети\n",
    "    Входные параметры:\n",
    "    - num_classes - количество классов\n",
    "    - input_shape - размерность карты сегментации\n",
    "'''\n",
    "def unet(num_classes = 4, input_shape= (432, 768, 3)):\n",
    "    img_input = Input(input_shape)                                         # Создаем входной слой с размерностью input_shape\n",
    "\n",
    "    # Block 1\n",
    "    x = Conv2D(64, (3, 3), padding='same', name='block1_conv1')(img_input) # Добавляем Conv2D-слой с 64-нейронами\n",
    "    x = BatchNormalization()(x)                                            # Добавляем слой BatchNormalization\n",
    "    x = Activation('relu')(x)                                              # Добавляем слой Activation\n",
    "\n",
    "    x = Conv2D(64, (3, 3), padding='same', name='block1_conv2')(x)         # Добавляем Conv2D-слой с 64-нейронами\n",
    "    x = BatchNormalization()(x)                                            # Добавляем слой BatchNormalization\n",
    "    block_1_out = Activation('relu')(x)                                    # Добавляем слой Activation и запоминаем в переменной block_1_out\n",
    "\n",
    "    x = MaxPooling2D()(block_1_out)                                        # Добавляем слой MaxPooling2D\n",
    "\n",
    "    # Block 2\n",
    "    x = Conv2D(128, (3, 3), padding='same', name='block2_conv1')(x)        # Добавляем Conv2D-слой с 128-нейронами\n",
    "    x = BatchNormalization()(x)                                            # Добавляем слой BatchNormalization\n",
    "    x = Activation('relu')(x)                                              # Добавляем слой Activation\n",
    "\n",
    "    x = Conv2D(128, (3, 3), padding='same', name='block2_conv2')(x)        # Добавляем Conv2D-слой с 128-нейронами\n",
    "    x = BatchNormalization()(x)                                            # Добавляем слой BatchNormalization\n",
    "    block_2_out = Activation('relu')(x)                                    # Добавляем слой Activation и запоминаем в переменной block_2_out\n",
    "\n",
    "    x = MaxPooling2D()(block_2_out)                                        # Добавляем слой MaxPooling2D\n",
    "\n",
    "    # Block 3\n",
    "    x = Conv2D(256, (3, 3), padding='same', name='block3_conv1')(x)        # Добавляем Conv2D-слой с 256-нейронами\n",
    "    x = BatchNormalization()(x)                                            # Добавляем слой BatchNormalization\n",
    "    x = Activation('relu')(x)                                              # Добавляем слой Activation\n",
    "\n",
    "    x = Conv2D(256, (3, 3), padding='same', name='block3_conv2')(x)        # Добавляем Conv2D-слой с 256-нейронами\n",
    "    x = BatchNormalization()(x)                                            # Добавляем слой BatchNormalization\n",
    "    x = Activation('relu')(x)                                              # Добавляем слой Activation\n",
    "\n",
    "    x = Conv2D(256, (3, 3), padding='same', name='block3_conv3')(x)        # Добавляем Conv2D-слой с 256-нейронами\n",
    "    x = BatchNormalization()(x)                                            # Добавляем слой BatchNormalization\n",
    "    block_3_out = Activation('relu')(x)                                    # Добавляем слой Activation и запоминаем в переменной block_3_out\n",
    "\n",
    "    x = MaxPooling2D()(block_3_out)                                        # Добавляем слой MaxPooling2D\n",
    "\n",
    "    # Block 4\n",
    "    x = Conv2D(512, (3, 3), padding='same', name='block4_conv1')(x)        # Добавляем Conv2D-слой с 512-нейронами\n",
    "    x = BatchNormalization()(x)                                            # Добавляем слой BatchNormalization\n",
    "    x = Activation('relu')(x)                                              # Добавляем слой Activation\n",
    "\n",
    "    x = Conv2D(512, (3, 3), padding='same', name='block4_conv2')(x)        # Добавляем Conv2D-слой с 256-нейронами\n",
    "    x = BatchNormalization()(x)                                            # Добавляем слой BatchNormalization\n",
    "    x = Activation('relu')(x)                                              # Добавляем слой Activation\n",
    "\n",
    "    x = Conv2D(512, (3, 3), padding='same', name='block4_conv3')(x)        # Добавляем Conv2D-слой с 256-нейронами\n",
    "    x = BatchNormalization()(x)                                            # Добавляем слой BatchNormalization\n",
    "    block_4_out = Activation('relu')(x)                                    # Добавляем слой Activation и запоминаем в переменной block_4_out\n",
    "    x = block_4_out \n",
    "\n",
    "    # UP 2\n",
    "    x = Conv2DTranspose(256, (2, 2), strides=(2, 2), padding='same')(x)    # Добавляем слой Conv2DTranspose с 256 нейронами\n",
    "    x = BatchNormalization()(x)                                            # Добавляем слой BatchNormalization\n",
    "    x = Activation('relu')(x)                                              # Добавляем слой Activation\n",
    "\n",
    "    x = concatenate([x, block_3_out])                                      # Объединем текущий слой со слоем block_3_out\n",
    "    x = Conv2D(256, (3, 3), padding='same')(x)                             # Добавляем слой Conv2D с 256 нейронами\n",
    "    x = BatchNormalization()(x)                                            # Добавляем слой BatchNormalization\n",
    "    x = Activation('relu')(x)                                              # Добавляем слой Activation\n",
    "\n",
    "    x = Conv2D(256, (3, 3), padding='same')(x)\n",
    "    x = BatchNormalization()(x)                                            # Добавляем слой BatchNormalization\n",
    "    x = Activation('relu')(x)                                              # Добавляем слой Activation\n",
    "\n",
    "    # UP 3\n",
    "    x = Conv2DTranspose(128, (2, 2), strides=(2, 2), padding='same')(x)    # Добавляем слой Conv2DTranspose с 128 нейронами\n",
    "    x = BatchNormalization()(x)                                            # Добавляем слой BatchNormalization\n",
    "    x = Activation('relu')(x)                                              # Добавляем слой Activation\n",
    "\n",
    "    x = concatenate([x, block_2_out])                                      # Объединем текущий слой со слоем block_2_out\n",
    "    x = Conv2D(128, (3, 3), padding='same')(x)                             # Добавляем слой Conv2D с 128 нейронами\n",
    "    x = BatchNormalization()(x)                                            # Добавляем слой BatchNormalization\n",
    "    x = Activation('relu')(x)                                              # Добавляем слой Activation\n",
    "\n",
    "    x = Conv2D(128, (3, 3), padding='same')(x) # Добавляем слой Conv2D с 128 нейронами\n",
    "    x = BatchNormalization()(x) # Добавляем слой BatchNormalization\n",
    "    x = Activation('relu')(x) # Добавляем слой Activation\n",
    "\n",
    "    # UP 4\n",
    "    x = Conv2DTranspose(64, (2, 2), strides=(2, 2), padding='same')(x) # Добавляем слой Conv2DTranspose с 64 нейронами\n",
    "    x = BatchNormalization()(x) # Добавляем слой BatchNormalization\n",
    "    x = Activation('relu')(x) # Добавляем слой Activation\n",
    "\n",
    "    x = concatenate([x, block_1_out])  # Объединем текущий слой со слоем block_1_out\n",
    "    x = Conv2D(64, (3, 3), padding='same')(x) # Добавляем слой Conv2D с 64 нейронами\n",
    "    x = BatchNormalization()(x) # Добавляем слой BatchNormalization\n",
    "    x = Activation('relu')(x) # Добавляем слой Activation\n",
    "\n",
    "    x = Conv2D(64, (3, 3), padding='same')(x) # Добавляем слой Conv2D с 64 нейронами\n",
    "    x = BatchNormalization()(x) # Добавляем слой BatchNormalization\n",
    "    x = Activation('relu')(x) # Добавляем слой Activation\n",
    "\n",
    "    x = Conv2D(num_classes, (3, 3), activation='softmax', padding='same')(x)  # Добавляем Conv2D-Слой с softmax-активацией на num_classes-нейронов\n",
    "\n",
    "    model = Model(img_input, x) # Создаем модель с входом 'img_input' и выходом 'x'\n",
    "\n",
    "    # Компилируем модель \n",
    "    model.compile(optimizer=Adam(),\n",
    "                  loss='categorical_crossentropy',\n",
    "                  metrics=[dice_coef])\n",
    "    \n",
    "    return model "
   ]
  },
  {
   "cell_type": "markdown",
   "metadata": {
    "cellId": "rs0fiy0rgas0zxufiawhtzb",
    "execution_id": "886095bb-2fd9-4258-bb3f-9c0593de1d1f"
   },
   "source": [
    "**Новую модель создавать только один (первый) раз.**"
   ]
  },
  {
   "cell_type": "code",
   "execution_count": 59,
   "metadata": {
    "cellId": "qby3r9gem1mp0bswi8gw5"
   },
   "outputs": [
    {
     "name": "stderr",
     "output_type": "stream",
     "text": [
      "2022-07-20 22:03:28.966935: W tensorflow/python/util/util.cc:348] Sets are not currently considered sequences, but this may change in the future, so consider avoiding using them.\n"
     ]
    },
    {
     "name": "stdout",
     "output_type": "stream",
     "text": [
      "INFO:tensorflow:Assets written to: /home/jupyter/work/resources/NIIAS-RZD/models/00-Unet/assets\n"
     ]
    }
   ],
   "source": [
    "#!g1.1\n",
    "# Создаем модель и сохраняем ее \n",
    "modelUnet = unet(num_classes, (img_height, img_width, 3))\n",
    "# modelPSPnet.summary()\n",
    "\n",
    "model_file = os.path.join(model_path, '00-Unet')\n",
    "modelUnet.save(model_file, save_format='tf')"
   ]
  },
  {
   "cell_type": "markdown",
   "metadata": {
    "cellId": "2tx5nknytmgniti0wb3dqb",
    "execution_id": "5b30f9c3-ea13-4444-9a55-8a5647d17dca"
   },
   "source": [
    "**Поправить имя сохраненной модели, с которой продолжаем обучение**"
   ]
  },
  {
   "cell_type": "code",
   "execution_count": 118,
   "metadata": {
    "cellId": "tujsit3rkkg11njyjboo9v8"
   },
   "outputs": [
    {
     "name": "stdout",
     "output_type": "stream",
     "text": [
      "\n",
      "Обучение на выборке data51.npz\n"
     ]
    },
    {
     "name": "stderr",
     "output_type": "stream",
     "text": [
      "2022-07-21 19:20:06.671481: I tensorflow/compiler/mlir/mlir_graph_optimization_pass.cc:185] None of the MLIR Optimization Passes are enabled (registered 2)\n"
     ]
    },
    {
     "name": "stdout",
     "output_type": "stream",
     "text": [
      "Epoch 1/10\n"
     ]
    },
    {
     "name": "stderr",
     "output_type": "stream",
     "text": [
      "2022-07-21 19:20:10.697158: I tensorflow/stream_executor/cuda/cuda_dnn.cc:369] Loaded cuDNN version 8101\n"
     ]
    },
    {
     "name": "stdout",
     "output_type": "stream",
     "text": [
      "340/340 [==============================] - 78s 187ms/step - loss: 0.2263 - dice_coef: 0.8785 - val_loss: 0.2572 - val_dice_coef: 0.8635\n",
      "Epoch 2/10\n",
      "340/340 [==============================] - 62s 182ms/step - loss: 0.1833 - dice_coef: 0.8983 - val_loss: 0.2633 - val_dice_coef: 0.8676\n",
      "Epoch 3/10\n",
      "340/340 [==============================] - 62s 183ms/step - loss: 0.1735 - dice_coef: 0.9038 - val_loss: 0.2514 - val_dice_coef: 0.8666\n",
      "Epoch 4/10\n",
      "340/340 [==============================] - 62s 183ms/step - loss: 0.1547 - dice_coef: 0.9139 - val_loss: 0.2546 - val_dice_coef: 0.8822\n",
      "Epoch 5/10\n",
      "340/340 [==============================] - 62s 184ms/step - loss: 0.1431 - dice_coef: 0.9194 - val_loss: 0.2545 - val_dice_coef: 0.8898\n",
      "Epoch 6/10\n",
      "340/340 [==============================] - 62s 184ms/step - loss: 0.1267 - dice_coef: 0.9285 - val_loss: 0.2711 - val_dice_coef: 0.8822\n",
      "Epoch 7/10\n",
      "340/340 [==============================] - 62s 184ms/step - loss: 0.1194 - dice_coef: 0.9323 - val_loss: 0.2911 - val_dice_coef: 0.8831\n",
      "Epoch 8/10\n",
      "340/340 [==============================] - 63s 184ms/step - loss: 0.1088 - dice_coef: 0.9382 - val_loss: 0.2957 - val_dice_coef: 0.8631\n",
      "Epoch 9/10\n",
      "340/340 [==============================] - 63s 184ms/step - loss: 0.1047 - dice_coef: 0.9403 - val_loss: 0.2841 - val_dice_coef: 0.8967\n",
      "Epoch 10/10\n",
      "340/340 [==============================] - 63s 184ms/step - loss: 0.0931 - dice_coef: 0.9467 - val_loss: 0.2851 - val_dice_coef: 0.9006\n"
     ]
    },
    {
     "name": "stderr",
     "output_type": "stream",
     "text": [
      "2022-07-21 19:30:49.545654: W tensorflow/python/util/util.cc:348] Sets are not currently considered sequences, but this may change in the future, so consider avoiding using them.\n"
     ]
    },
    {
     "name": "stdout",
     "output_type": "stream",
     "text": [
      "INFO:tensorflow:Assets written to: /home/jupyter/work/resources/NIIAS-RZD/models/51-Unet/assets\n",
      "\n",
      "Обучение на выборке data52.npz\n",
      "Epoch 1/10\n",
      "340/340 [==============================] - 64s 187ms/step - loss: 0.2077 - dice_coef: 0.8872 - val_loss: 0.2423 - val_dice_coef: 0.8739\n",
      "Epoch 2/10\n",
      "340/340 [==============================] - 62s 183ms/step - loss: 0.1709 - dice_coef: 0.9041 - val_loss: 0.2358 - val_dice_coef: 0.8849\n",
      "Epoch 3/10\n",
      "340/340 [==============================] - 62s 184ms/step - loss: 0.1491 - dice_coef: 0.9158 - val_loss: 0.2314 - val_dice_coef: 0.8947\n",
      "Epoch 4/10\n",
      "340/340 [==============================] - 63s 184ms/step - loss: 0.1378 - dice_coef: 0.9221 - val_loss: 0.2251 - val_dice_coef: 0.8894\n",
      "Epoch 5/10\n",
      "340/340 [==============================] - 63s 184ms/step - loss: 0.1257 - dice_coef: 0.9290 - val_loss: 0.2505 - val_dice_coef: 0.8979\n",
      "Epoch 6/10\n",
      "340/340 [==============================] - 63s 185ms/step - loss: 0.1123 - dice_coef: 0.9363 - val_loss: 0.2493 - val_dice_coef: 0.8943\n",
      "Epoch 7/10\n",
      "340/340 [==============================] - 63s 185ms/step - loss: 0.1041 - dice_coef: 0.9408 - val_loss: 0.2682 - val_dice_coef: 0.8930\n",
      "Epoch 8/10\n",
      "340/340 [==============================] - 63s 184ms/step - loss: 0.0930 - dice_coef: 0.9465 - val_loss: 0.3220 - val_dice_coef: 0.8984\n",
      "Epoch 9/10\n",
      "340/340 [==============================] - 63s 185ms/step - loss: 0.0826 - dice_coef: 0.9525 - val_loss: 0.2716 - val_dice_coef: 0.9045\n",
      "Epoch 10/10\n",
      "340/340 [==============================] - 63s 185ms/step - loss: 0.0795 - dice_coef: 0.9544 - val_loss: 0.3277 - val_dice_coef: 0.8986\n",
      "INFO:tensorflow:Assets written to: /home/jupyter/work/resources/NIIAS-RZD/models/52-Unet/assets\n",
      "\n",
      "Обучение на выборке data53.npz\n",
      "Epoch 1/10\n",
      "340/340 [==============================] - 64s 187ms/step - loss: 0.2195 - dice_coef: 0.8806 - val_loss: 0.2455 - val_dice_coef: 0.8695\n",
      "Epoch 2/10\n",
      "340/340 [==============================] - 62s 184ms/step - loss: 0.1778 - dice_coef: 0.9009 - val_loss: 0.2607 - val_dice_coef: 0.8757\n",
      "Epoch 3/10\n",
      "340/340 [==============================] - 62s 184ms/step - loss: 0.1579 - dice_coef: 0.9120 - val_loss: 0.2496 - val_dice_coef: 0.8844\n",
      "Epoch 4/10\n",
      "340/340 [==============================] - 63s 184ms/step - loss: 0.1380 - dice_coef: 0.9217 - val_loss: 0.2539 - val_dice_coef: 0.8885\n",
      "Epoch 5/10\n",
      "340/340 [==============================] - 63s 184ms/step - loss: 0.1222 - dice_coef: 0.9308 - val_loss: 0.2635 - val_dice_coef: 0.8949\n",
      "Epoch 6/10\n",
      "340/340 [==============================] - 63s 184ms/step - loss: 0.1137 - dice_coef: 0.9352 - val_loss: 0.2692 - val_dice_coef: 0.8971\n",
      "Epoch 7/10\n",
      "340/340 [==============================] - 63s 184ms/step - loss: 0.1009 - dice_coef: 0.9424 - val_loss: 0.2858 - val_dice_coef: 0.8957\n",
      "Epoch 8/10\n",
      "340/340 [==============================] - 63s 184ms/step - loss: 0.0930 - dice_coef: 0.9471 - val_loss: 0.3557 - val_dice_coef: 0.8786\n",
      "Epoch 9/10\n",
      "340/340 [==============================] - 63s 184ms/step - loss: 0.0868 - dice_coef: 0.9500 - val_loss: 0.2852 - val_dice_coef: 0.8933\n",
      "Epoch 10/10\n",
      "340/340 [==============================] - 63s 185ms/step - loss: 0.0843 - dice_coef: 0.9518 - val_loss: 0.3008 - val_dice_coef: 0.8974\n",
      "INFO:tensorflow:Assets written to: /home/jupyter/work/resources/NIIAS-RZD/models/53-Unet/assets\n",
      "\n",
      "Обучение на выборке data54.npz\n",
      "Epoch 1/10\n",
      "340/340 [==============================] - 64s 187ms/step - loss: 0.2000 - dice_coef: 0.8910 - val_loss: 0.2758 - val_dice_coef: 0.8656\n",
      "Epoch 2/10\n",
      "340/340 [==============================] - 62s 184ms/step - loss: 0.1586 - dice_coef: 0.9112 - val_loss: 0.2863 - val_dice_coef: 0.8697\n",
      "Epoch 3/10\n",
      "340/340 [==============================] - 63s 184ms/step - loss: 0.1418 - dice_coef: 0.9201 - val_loss: 0.2647 - val_dice_coef: 0.8826\n",
      "Epoch 4/10\n",
      "340/340 [==============================] - 63s 185ms/step - loss: 0.1234 - dice_coef: 0.9303 - val_loss: 0.2805 - val_dice_coef: 0.8863\n",
      "Epoch 5/10\n",
      "340/340 [==============================] - 63s 185ms/step - loss: 0.1090 - dice_coef: 0.9381 - val_loss: 0.2765 - val_dice_coef: 0.8908\n",
      "Epoch 6/10\n",
      "340/340 [==============================] - 63s 185ms/step - loss: 0.0990 - dice_coef: 0.9436 - val_loss: 0.3092 - val_dice_coef: 0.8888\n",
      "Epoch 7/10\n",
      "340/340 [==============================] - 63s 185ms/step - loss: 0.0888 - dice_coef: 0.9490 - val_loss: 0.3179 - val_dice_coef: 0.8918\n",
      "Epoch 8/10\n",
      "340/340 [==============================] - 63s 185ms/step - loss: 0.0804 - dice_coef: 0.9539 - val_loss: 0.3644 - val_dice_coef: 0.8913\n",
      "Epoch 9/10\n",
      "340/340 [==============================] - 63s 185ms/step - loss: 0.0707 - dice_coef: 0.9593 - val_loss: 0.3298 - val_dice_coef: 0.8981\n",
      "Epoch 10/10\n",
      "340/340 [==============================] - 63s 185ms/step - loss: 0.0683 - dice_coef: 0.9605 - val_loss: 0.3242 - val_dice_coef: 0.8935\n",
      "INFO:tensorflow:Assets written to: /home/jupyter/work/resources/NIIAS-RZD/models/54-Unet/assets\n",
      "\n",
      "Обучение на выборке data55.npz\n",
      "Epoch 1/10\n",
      "340/340 [==============================] - 64s 187ms/step - loss: 0.2055 - dice_coef: 0.8884 - val_loss: 0.2597 - val_dice_coef: 0.8565\n",
      "Epoch 2/10\n",
      "340/340 [==============================] - 62s 183ms/step - loss: 0.1659 - dice_coef: 0.9079 - val_loss: 0.2471 - val_dice_coef: 0.8779\n",
      "Epoch 3/10\n",
      "340/340 [==============================] - 63s 184ms/step - loss: 0.1388 - dice_coef: 0.9218 - val_loss: 0.2428 - val_dice_coef: 0.8763\n",
      "Epoch 4/10\n",
      "340/340 [==============================] - 63s 184ms/step - loss: 0.1229 - dice_coef: 0.9307 - val_loss: 0.2610 - val_dice_coef: 0.8734\n",
      "Epoch 5/10\n",
      "340/340 [==============================] - 63s 184ms/step - loss: 0.1085 - dice_coef: 0.9383 - val_loss: 0.2570 - val_dice_coef: 0.8878\n",
      "Epoch 6/10\n",
      "340/340 [==============================] - 63s 185ms/step - loss: 0.0978 - dice_coef: 0.9443 - val_loss: 0.2734 - val_dice_coef: 0.8953\n",
      "Epoch 7/10\n",
      "340/340 [==============================] - 63s 185ms/step - loss: 0.0849 - dice_coef: 0.9513 - val_loss: 0.2769 - val_dice_coef: 0.8898\n",
      "Epoch 8/10\n",
      "340/340 [==============================] - 63s 184ms/step - loss: 0.0758 - dice_coef: 0.9565 - val_loss: 0.2863 - val_dice_coef: 0.8903\n",
      "Epoch 9/10\n",
      "340/340 [==============================] - 63s 185ms/step - loss: 0.0744 - dice_coef: 0.9570 - val_loss: 0.3027 - val_dice_coef: 0.8955\n",
      "Epoch 10/10\n",
      "340/340 [==============================] - 63s 184ms/step - loss: 0.0649 - dice_coef: 0.9624 - val_loss: 0.3744 - val_dice_coef: 0.8920\n",
      "INFO:tensorflow:Assets written to: /home/jupyter/work/resources/NIIAS-RZD/models/55-Unet/assets\n",
      "\n",
      "Обучение на выборке data56.npz\n",
      "Epoch 1/10\n",
      "340/340 [==============================] - 63s 187ms/step - loss: 0.2025 - dice_coef: 0.8911 - val_loss: 0.2385 - val_dice_coef: 0.8820\n",
      "Epoch 2/10\n",
      "340/340 [==============================] - 62s 183ms/step - loss: 0.1488 - dice_coef: 0.9174 - val_loss: 0.2525 - val_dice_coef: 0.8834\n",
      "Epoch 3/10\n",
      "340/340 [==============================] - 63s 184ms/step - loss: 0.1290 - dice_coef: 0.9277 - val_loss: 0.2412 - val_dice_coef: 0.8918\n",
      "Epoch 4/10\n",
      "340/340 [==============================] - 63s 184ms/step - loss: 0.1129 - dice_coef: 0.9359 - val_loss: 0.2403 - val_dice_coef: 0.8936\n",
      "Epoch 5/10\n",
      "340/340 [==============================] - 63s 185ms/step - loss: 0.1025 - dice_coef: 0.9418 - val_loss: 0.2618 - val_dice_coef: 0.8933\n",
      "Epoch 6/10\n",
      "340/340 [==============================] - 63s 184ms/step - loss: 0.0975 - dice_coef: 0.9447 - val_loss: 0.2942 - val_dice_coef: 0.8970\n",
      "Epoch 7/10\n",
      "340/340 [==============================] - 62s 184ms/step - loss: 0.0778 - dice_coef: 0.9553 - val_loss: 0.3233 - val_dice_coef: 0.9023\n",
      "Epoch 8/10\n",
      "340/340 [==============================] - 63s 184ms/step - loss: 0.0723 - dice_coef: 0.9585 - val_loss: 0.3413 - val_dice_coef: 0.9012\n",
      "Epoch 9/10\n",
      "340/340 [==============================] - 63s 184ms/step - loss: 0.0659 - dice_coef: 0.9619 - val_loss: 0.3869 - val_dice_coef: 0.8970\n",
      "Epoch 10/10\n",
      "340/340 [==============================] - 62s 184ms/step - loss: 0.0650 - dice_coef: 0.9625 - val_loss: 0.3767 - val_dice_coef: 0.9021\n",
      "INFO:tensorflow:Assets written to: /home/jupyter/work/resources/NIIAS-RZD/models/56-Unet/assets\n",
      "\n",
      "Обучение на выборке data57.npz\n",
      "Epoch 1/10\n",
      "340/340 [==============================] - 64s 187ms/step - loss: 0.2217 - dice_coef: 0.8815 - val_loss: 0.3169 - val_dice_coef: 0.8540\n",
      "Epoch 2/10\n",
      "340/340 [==============================] - 62s 183ms/step - loss: 0.1652 - dice_coef: 0.9080 - val_loss: 0.2770 - val_dice_coef: 0.8816\n",
      "Epoch 3/10\n",
      "340/340 [==============================] - 62s 183ms/step - loss: 0.1453 - dice_coef: 0.9182 - val_loss: 0.2506 - val_dice_coef: 0.8891\n",
      "Epoch 4/10\n",
      "340/340 [==============================] - 62s 184ms/step - loss: 0.1193 - dice_coef: 0.9324 - val_loss: 0.2764 - val_dice_coef: 0.8977\n",
      "Epoch 5/10\n",
      "340/340 [==============================] - 63s 184ms/step - loss: 0.1051 - dice_coef: 0.9401 - val_loss: 0.2635 - val_dice_coef: 0.8986\n",
      "Epoch 6/10\n",
      "340/340 [==============================] - 63s 184ms/step - loss: 0.0905 - dice_coef: 0.9481 - val_loss: 0.3052 - val_dice_coef: 0.9009\n",
      "Epoch 7/10\n",
      "340/340 [==============================] - 62s 184ms/step - loss: 0.0805 - dice_coef: 0.9537 - val_loss: 0.3377 - val_dice_coef: 0.9020\n",
      "Epoch 8/10\n",
      "340/340 [==============================] - 62s 184ms/step - loss: 0.0783 - dice_coef: 0.9551 - val_loss: 0.3173 - val_dice_coef: 0.9038\n",
      "Epoch 9/10\n",
      "340/340 [==============================] - 63s 184ms/step - loss: 0.0712 - dice_coef: 0.9591 - val_loss: 0.4088 - val_dice_coef: 0.9020\n",
      "Epoch 10/10\n",
      "340/340 [==============================] - 62s 184ms/step - loss: 0.0661 - dice_coef: 0.9620 - val_loss: 0.3361 - val_dice_coef: 0.9042\n",
      "INFO:tensorflow:Assets written to: /home/jupyter/work/resources/NIIAS-RZD/models/57-Unet/assets\n",
      "\n",
      "Обучение на выборке data58.npz\n",
      "Epoch 1/10\n",
      "340/340 [==============================] - 64s 187ms/step - loss: 0.2265 - dice_coef: 0.8812 - val_loss: 0.2397 - val_dice_coef: 0.8713\n",
      "Epoch 2/10\n",
      "340/340 [==============================] - 62s 183ms/step - loss: 0.1664 - dice_coef: 0.9090 - val_loss: 0.2362 - val_dice_coef: 0.8822\n",
      "Epoch 3/10\n",
      "340/340 [==============================] - 62s 183ms/step - loss: 0.1424 - dice_coef: 0.9215 - val_loss: 0.2493 - val_dice_coef: 0.8889\n",
      "Epoch 4/10\n",
      "340/340 [==============================] - 62s 183ms/step - loss: 0.1240 - dice_coef: 0.9308 - val_loss: 0.2786 - val_dice_coef: 0.8904\n",
      "Epoch 5/10\n",
      "340/340 [==============================] - 62s 184ms/step - loss: 0.1084 - dice_coef: 0.9390 - val_loss: 0.2677 - val_dice_coef: 0.8920\n",
      "Epoch 6/10\n",
      "340/340 [==============================] - 62s 184ms/step - loss: 0.0898 - dice_coef: 0.9491 - val_loss: 0.2668 - val_dice_coef: 0.9010\n",
      "Epoch 7/10\n",
      "340/340 [==============================] - 62s 184ms/step - loss: 0.0811 - dice_coef: 0.9538 - val_loss: 0.2820 - val_dice_coef: 0.9053\n",
      "Epoch 8/10\n",
      "340/340 [==============================] - 62s 184ms/step - loss: 0.0724 - dice_coef: 0.9588 - val_loss: 0.3790 - val_dice_coef: 0.8959\n",
      "Epoch 9/10\n",
      "340/340 [==============================] - 62s 184ms/step - loss: 0.0687 - dice_coef: 0.9606 - val_loss: 0.3450 - val_dice_coef: 0.9066\n",
      "Epoch 10/10\n",
      "340/340 [==============================] - 62s 184ms/step - loss: 0.0592 - dice_coef: 0.9658 - val_loss: 0.3641 - val_dice_coef: 0.9059\n",
      "INFO:tensorflow:Assets written to: /home/jupyter/work/resources/NIIAS-RZD/models/58-Unet/assets\n",
      "\n",
      "Обучение на выборке data59.npz\n",
      "Epoch 1/10\n",
      "340/340 [==============================] - 63s 187ms/step - loss: 0.2096 - dice_coef: 0.8877 - val_loss: 0.2330 - val_dice_coef: 0.8820\n",
      "Epoch 2/10\n",
      "340/340 [==============================] - 62s 184ms/step - loss: 0.1571 - dice_coef: 0.9125 - val_loss: 0.2450 - val_dice_coef: 0.8840\n",
      "Epoch 3/10\n",
      "340/340 [==============================] - 62s 184ms/step - loss: 0.1337 - dice_coef: 0.9253 - val_loss: 0.2319 - val_dice_coef: 0.8909\n",
      "Epoch 4/10\n",
      "340/340 [==============================] - 63s 184ms/step - loss: 0.1159 - dice_coef: 0.9345 - val_loss: 0.2529 - val_dice_coef: 0.8983\n",
      "Epoch 5/10\n",
      "340/340 [==============================] - 62s 184ms/step - loss: 0.1005 - dice_coef: 0.9433 - val_loss: 0.2479 - val_dice_coef: 0.9008\n",
      "Epoch 6/10\n",
      "340/340 [==============================] - 63s 184ms/step - loss: 0.0882 - dice_coef: 0.9502 - val_loss: 0.2605 - val_dice_coef: 0.9060\n",
      "Epoch 7/10\n",
      "340/340 [==============================] - 63s 184ms/step - loss: 0.0772 - dice_coef: 0.9558 - val_loss: 0.2864 - val_dice_coef: 0.9077\n",
      "Epoch 8/10\n",
      "340/340 [==============================] - 63s 185ms/step - loss: 0.0727 - dice_coef: 0.9584 - val_loss: 0.3038 - val_dice_coef: 0.9054\n",
      "Epoch 9/10\n",
      "340/340 [==============================] - 63s 185ms/step - loss: 0.0648 - dice_coef: 0.9627 - val_loss: 0.3220 - val_dice_coef: 0.9084\n",
      "Epoch 10/10\n",
      "340/340 [==============================] - 63s 185ms/step - loss: 0.0580 - dice_coef: 0.9665 - val_loss: 0.3656 - val_dice_coef: 0.9072\n",
      "INFO:tensorflow:Assets written to: /home/jupyter/work/resources/NIIAS-RZD/models/59-Unet/assets\n",
      "\n",
      "Обучение на выборке data60.npz\n",
      "Epoch 1/10\n",
      "340/340 [==============================] - 64s 187ms/step - loss: 0.2120 - dice_coef: 0.8850 - val_loss: 0.2499 - val_dice_coef: 0.8762\n",
      "Epoch 2/10\n",
      "340/340 [==============================] - 62s 183ms/step - loss: 0.1657 - dice_coef: 0.9085 - val_loss: 0.2194 - val_dice_coef: 0.8820\n",
      "Epoch 3/10\n",
      "340/340 [==============================] - 62s 184ms/step - loss: 0.1315 - dice_coef: 0.9258 - val_loss: 0.2483 - val_dice_coef: 0.8986\n",
      "Epoch 4/10\n",
      "340/340 [==============================] - 63s 184ms/step - loss: 0.1153 - dice_coef: 0.9343 - val_loss: 0.2530 - val_dice_coef: 0.9010\n",
      "Epoch 5/10\n",
      "340/340 [==============================] - 63s 185ms/step - loss: 0.1024 - dice_coef: 0.9417 - val_loss: 0.2551 - val_dice_coef: 0.9061\n",
      "Epoch 6/10\n",
      "340/340 [==============================] - 63s 185ms/step - loss: 0.0851 - dice_coef: 0.9514 - val_loss: 0.2591 - val_dice_coef: 0.9068\n",
      "Epoch 7/10\n",
      "340/340 [==============================] - 63s 185ms/step - loss: 0.0760 - dice_coef: 0.9564 - val_loss: 0.2745 - val_dice_coef: 0.9089\n",
      "Epoch 8/10\n",
      "340/340 [==============================] - 63s 186ms/step - loss: 0.0681 - dice_coef: 0.9607 - val_loss: 0.2934 - val_dice_coef: 0.9130\n",
      "Epoch 9/10\n",
      "340/340 [==============================] - 63s 186ms/step - loss: 0.0687 - dice_coef: 0.9606 - val_loss: 0.2910 - val_dice_coef: 0.9073\n",
      "Epoch 10/10\n",
      "340/340 [==============================] - 63s 185ms/step - loss: 0.0598 - dice_coef: 0.9654 - val_loss: 0.3043 - val_dice_coef: 0.9097\n",
      "INFO:tensorflow:Assets written to: /home/jupyter/work/resources/NIIAS-RZD/models/60-Unet/assets\n",
      "Время выполнения: 7166.37c\n"
     ]
    },
    {
     "name": "stderr",
     "output_type": "stream",
     "text": [
      "/kernel/lib/python3.8/site-packages/ml_kernel/kernel.py:873: UserWarning: The following variables cannot be serialized: data, history, history_list, modelUnet\n",
      "  warnings.warn(message)\n"
     ]
    }
   ],
   "source": [
    "#!g1.1\n",
    "# Обучаем на нескольких выборках\n",
    "N_np = 10\n",
    "start_from = 31 # нумерации файлов \n",
    "\n",
    "history_list = []\n",
    "\n",
    "# Загружаем модель (поправить вручную)\n",
    "model_file = os.path.join(model_path, '15-Unet')\n",
    "modelUnet = load_model(model_file, custom_objects={'dice_coef':dice_coef})\n",
    "\n",
    "cur_time = time.time()\n",
    "for n in range(N_np):\n",
    "    np_file = np_files[start_from + n -1]\n",
    "    data = np.load(os.path.join(data_path, np_file))\n",
    "    images_np = data['a']\n",
    "    anns_np = data['b']\n",
    "    print(\"\\nОбучение на выборке {}\".format(np_file))\n",
    "    \n",
    "    x_train, x_val, y_train, y_val = train_test_split(images_np, anns_np, test_size=0.15, shuffle=True)   \n",
    "    \n",
    "    history = modelUnet.fit(x_train, y_train, epochs=10, batch_size=2, validation_data = (x_val, y_val)) \n",
    "    history_list.append(history)\n",
    "    \n",
    "    file_number = \"%02d\" % (start_from + n + 20)\n",
    "    model_file = os.path.join(model_path, file_number + '-Unet')\n",
    "    modelUnet.save(model_file, save_format='tf')\n",
    "    \n",
    "print(\"Время выполнения: \", round(time.time() - cur_time, 2), 'c', sep='')"
   ]
  },
  {
   "cell_type": "code",
   "execution_count": 119,
   "metadata": {
    "cellId": "yrxqhwjbkdoz0j1ukr3sr"
   },
   "outputs": [
    {
     "data": {
      "image/png": "[encoded data removed]",
      "text/plain": [
       "<Figure size 1152x360 with 1 Axes>"
      ]
     },
     "metadata": {
      "needs_background": "light"
     },
     "output_type": "display_data"
    },
    {
     "name": "stdout",
     "output_type": "stream",
     "text": [
      "Максимальная точность val_dice_coef = 0.913 на эпохе 97.\n"
     ]
    },
    {
     "name": "stderr",
     "output_type": "stream",
     "text": [
      "/kernel/lib/python3.8/site-packages/ml_kernel/kernel.py:873: UserWarning: The following variables cannot be serialized: history, history_list, modelUnet\n",
      "  warnings.warn(message)\n"
     ]
    }
   ],
   "source": [
    "#!g1.1\n",
    "#Отображаем график точности в процессе обучения\n",
    "history_acc = []\n",
    "history_val = []\n",
    "for N in range(len(history_list)):\n",
    "    history_acc = history_acc + history_list[N].history['dice_coef']\n",
    "    history_val = history_val + history_list[N].history['val_dice_coef']\n",
    "\n",
    "plt.figure(figsize=(16,5))\n",
    "plt.plot(history_acc, \n",
    "         label='dice_coef')\n",
    "plt.plot(history_val, \n",
    "         label='val_dice_coef')\n",
    "plt.xlabel('Эпоха обучения')\n",
    "plt.ylabel('Метрики')\n",
    "plt.legend()\n",
    "plt.show()\n",
    "\n",
    "# Максимальная точность\n",
    "val_acc = np.array(history_val)\n",
    "print('Максимальная точность val_dice_coef = {} на эпохе {}.'.format(round(val_acc.max(),4), val_acc.argmax()))\n"
   ]
  },
  {
   "cell_type": "markdown",
   "metadata": {
    "cellId": "aq6481l7d65hrzhv7lydj5",
    "execution_id": "7bcb70da-9417-4bac-ba1f-63f5950922c1"
   },
   "source": [
    "**Перекомпилируем и продолжим с другими гиперпараметрами"
   ]
  },
  {
   "cell_type": "code",
   "execution_count": null,
   "metadata": {
    "cellId": "qumjl8lk9grf2hhmuyca"
   },
   "outputs": [],
   "source": [
    "#!g1.1\n",
    "# Обучаем на нескольких выборках\n",
    "N_np = 1\n",
    "start_from = 16 # нумерации файлов \n",
    "\n",
    "history_list = []\n",
    "\n",
    "# Загружаем модель (поправить вручную)\n",
    "model_file = os.path.join(model_path, '60-Unet')\n",
    "modelUnet = load_model(model_file, custom_objects={'dice_coef':dice_coef})\n",
    "\n",
    "lr = 0.001 / 10\n",
    "modelUnet.compile(optimizer=Adam(lr=lr),\n",
    "                  loss='categorical_crossentropy',\n",
    "                  metrics=[dice_coef])\n",
    "\n",
    "cur_time = time.time()\n",
    "for n in range(N_np):\n",
    "    np_file = np_files[start_from + n -1]\n",
    "    data = np.load(os.path.join(data_path, np_file))\n",
    "    images_np = data['a']\n",
    "    anns_np = data['b']\n",
    "    print(\"\\nОбучение на выборке {}\".format(np_file))\n",
    "    \n",
    "    x_train, x_val, y_train, y_val = train_test_split(images_np, anns_np, test_size=0.15, shuffle=True)   \n",
    "    \n",
    "    history = modelUnet.fit(x_train, y_train, epochs=10, batch_size=2, validation_data = (x_val, y_val)) \n",
    "    history_list.append(history)\n",
    "    \n",
    "    file_number = \"%02d\" % (start_from + n + 10)\n",
    "    model_file = os.path.join(model_path, file_number + '-Unet')\n",
    "    modelUnet.save(model_file, save_format='tf')\n",
    "    \n",
    "print(\"Время выполнения: \", round(time.time() - cur_time, 2), 'c', sep='')"
   ]
  }
 ],
 "metadata": {
  "celltoolbar": "Необработанный формат ячейки",
  "language_info": {
   "codemirror_mode": {
    "name": "ipython",
    "version": 3
   },
   "file_extension": ".py",
   "mimetype": "text/x-python",
   "name": "python",
   "nbconvert_exporter": "python",
   "pygments_lexer": "ipython3",
   "version": "3.7.7"
  },
  "notebookId": "f92a7050-ed90-4ba1-bfee-acbd3667b5a3",
  "notebookPath": "NIIAS-RZD/Модель Unet.ipynb"
 },
 "nbformat": 4,
 "nbformat_minor": 4
}
