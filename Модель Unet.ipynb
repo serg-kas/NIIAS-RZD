{
 "cells": [
  {
   "cell_type": "markdown",
   "metadata": {
    "cellId": "evzpadrdn0v5s98kkyhcyi",
    "execution_id": "fff859c5-b71a-4422-9be6-d6b7bc6c1b74"
   },
   "source": [
    "### Создание и обучение модели для сегментации"
   ]
  },
  {
   "cell_type": "code",
   "execution_count": 72,
   "metadata": {
    "cellId": "4l86dcv5z58oqcpmxc4j6p"
   },
   "outputs": [],
   "source": [
    "#!g1.1\n",
    "import numpy as np \n",
    "import time\n",
    "import random\n",
    "import os\n",
    "\n",
    "import tensorflow as tf\n",
    "from tensorflow.keras.models import Model       \n",
    "from tensorflow.keras.layers import Input, Conv2DTranspose, concatenate, Activation, MaxPooling2D, Conv2D, BatchNormalization\n",
    "from tensorflow.keras.layers import Reshape, GlobalAveragePooling2D, UpSampling2D, AveragePooling2D\n",
    "from tensorflow.keras import backend as K        \n",
    "from tensorflow.keras.optimizers import Adam     \n",
    "from tensorflow.keras import utils               \n",
    "from tensorflow.keras.preprocessing import image \n",
    "from sklearn.model_selection import train_test_split\n",
    "from keras.models import load_model\n",
    "\n",
    "import matplotlib.pyplot as plt  \n",
    "# from PIL import Image "
   ]
  },
  {
   "cell_type": "code",
   "execution_count": 73,
   "metadata": {
    "cellId": "wnfb0hzdetjymu8mj9qz"
   },
   "outputs": [],
   "source": [
    "#!g1.1\n",
    "SEED = 1111\n",
    "random.seed(SEED)\n",
    "np.random.seed(SEED)\n",
    "tf.random.set_seed(SEED)"
   ]
  },
  {
   "cell_type": "code",
   "execution_count": 74,
   "metadata": {
    "cellId": "bmwxv5kcvxspz51dvywuha"
   },
   "outputs": [],
   "source": [
    "#!g1.1\n",
    "# Путь к сохраненным выборкам\n",
    "data_path = \"/home/jupyter/work/resources/NIIAS-RZD/data_np\"\n",
    "# Путь для сохранения моделей\n",
    "model_path = \"/home/jupyter/work/resources/NIIAS-RZD/models\""
   ]
  },
  {
   "cell_type": "code",
   "execution_count": 75,
   "metadata": {
    "cellId": "oo0pes17ezsjvld4jr06k"
   },
   "outputs": [
    {
     "name": "stdout",
     "output_type": "stream",
     "text": [
      "Имеем 30 сохраненных выборок\n"
     ]
    }
   ],
   "source": [
    "#!g1.1\n",
    "# Список выборок\n",
    "np_files  = []\n",
    "for file_name in sorted(os.listdir(data_path)):\n",
    "    if 'data' in file_name:\n",
    "        np_files.append(file_name)\n",
    "print(\"Имеем {} сохраненных выборок\".format(len(np_files)))"
   ]
  },
  {
   "cell_type": "code",
   "execution_count": 76,
   "metadata": {
    "cellId": "bbaqagb30dit69m2i919"
   },
   "outputs": [
    {
     "name": "stdout",
     "output_type": "stream",
     "text": [
      "data07.npz\n",
      "(800, 432, 768, 3) (800, 432, 768, 4)\n"
     ]
    },
    {
     "name": "stderr",
     "output_type": "stream",
     "text": [
      "/kernel/lib/python3.8/site-packages/ml_kernel/kernel.py:873: UserWarning: The following variables cannot be serialized: data\n",
      "  warnings.warn(message)\n"
     ]
    }
   ],
   "source": [
    "#!g1.1\n",
    "# Загрузим пример сохраненной выборки\n",
    "np_file = random.choice(np_files)\n",
    "print(np_file)\n",
    "data = np.load(os.path.join(data_path, np_file))\n",
    "images_np = data['a']\n",
    "anns_np = data['b']\n",
    "print(images_np.shape, anns_np.shape)"
   ]
  },
  {
   "cell_type": "code",
   "execution_count": 77,
   "metadata": {
    "cellId": "eqqugvy63qcdsihanih5ql"
   },
   "outputs": [
    {
     "name": "stdout",
     "output_type": "stream",
     "text": [
      "432 768\n"
     ]
    }
   ],
   "source": [
    "#!g1.1\n",
    "# Размеры, изображения\n",
    "img_height = images_np.shape[1]      # 432\n",
    "img_width = images_np.shape[2]       # 768\n",
    "print(img_height, img_width)"
   ]
  },
  {
   "cell_type": "code",
   "execution_count": 78,
   "metadata": {
    "cellId": "5jlwrrwadtwdoj34xw913s"
   },
   "outputs": [
    {
     "name": "stdout",
     "output_type": "stream",
     "text": [
      "4\n"
     ]
    }
   ],
   "source": [
    "#!g1.1\n",
    "# Классов сегментации\n",
    "classes = [0, 6, 7, 10]\n",
    "num_classes = len(classes)\n",
    "print(num_classes)"
   ]
  },
  {
   "cell_type": "markdown",
   "metadata": {
    "cellId": "5yj8ekt72sd1tvujjvzb1x",
    "execution_id": "acb3453e-f4d6-4e65-8b81-72974689eff3"
   },
   "source": [
    "### Создание Unet"
   ]
  },
  {
   "cell_type": "code",
   "execution_count": 79,
   "metadata": {
    "cellId": "5658qykr0ye0vm771671l3g"
   },
   "outputs": [],
   "source": [
    "#!g1.1\n",
    "# Функция метрики, обрабатывающая пересечение двух областей\n",
    "def dice_coef(y_true, y_pred):\n",
    "  # Возвращаем площадь пересечения деленную на площадь объединения двух областей\n",
    "  return (2. * K.sum(y_true * y_pred) + 1.) / (K.sum(y_true) + K.sum(y_pred) + 1.) "
   ]
  },
  {
   "cell_type": "code",
   "execution_count": 80,
   "metadata": {
    "cellId": "1o1k30yzdayn3gpfwe43u9"
   },
   "outputs": [],
   "source": [
    "#!g1.1\n",
    "'''\n",
    "  Функция создания сети\n",
    "    Входные параметры:\n",
    "    - num_classes - количество классов\n",
    "    - input_shape - размерность карты сегментации\n",
    "'''\n",
    "def unet(num_classes = 4, input_shape= (432, 768, 3)):\n",
    "    img_input = Input(input_shape)                                         # Создаем входной слой с размерностью input_shape\n",
    "\n",
    "    # Block 1\n",
    "    x = Conv2D(64, (3, 3), padding='same', name='block1_conv1')(img_input) # Добавляем Conv2D-слой с 64-нейронами\n",
    "    x = BatchNormalization()(x)                                            # Добавляем слой BatchNormalization\n",
    "    x = Activation('relu')(x)                                              # Добавляем слой Activation\n",
    "\n",
    "    x = Conv2D(64, (3, 3), padding='same', name='block1_conv2')(x)         # Добавляем Conv2D-слой с 64-нейронами\n",
    "    x = BatchNormalization()(x)                                            # Добавляем слой BatchNormalization\n",
    "    block_1_out = Activation('relu')(x)                                    # Добавляем слой Activation и запоминаем в переменной block_1_out\n",
    "\n",
    "    x = MaxPooling2D()(block_1_out)                                        # Добавляем слой MaxPooling2D\n",
    "\n",
    "    # Block 2\n",
    "    x = Conv2D(128, (3, 3), padding='same', name='block2_conv1')(x)        # Добавляем Conv2D-слой с 128-нейронами\n",
    "    x = BatchNormalization()(x)                                            # Добавляем слой BatchNormalization\n",
    "    x = Activation('relu')(x)                                              # Добавляем слой Activation\n",
    "\n",
    "    x = Conv2D(128, (3, 3), padding='same', name='block2_conv2')(x)        # Добавляем Conv2D-слой с 128-нейронами\n",
    "    x = BatchNormalization()(x)                                            # Добавляем слой BatchNormalization\n",
    "    block_2_out = Activation('relu')(x)                                    # Добавляем слой Activation и запоминаем в переменной block_2_out\n",
    "\n",
    "    x = MaxPooling2D()(block_2_out)                                        # Добавляем слой MaxPooling2D\n",
    "\n",
    "    # Block 3\n",
    "    x = Conv2D(256, (3, 3), padding='same', name='block3_conv1')(x)        # Добавляем Conv2D-слой с 256-нейронами\n",
    "    x = BatchNormalization()(x)                                            # Добавляем слой BatchNormalization\n",
    "    x = Activation('relu')(x)                                              # Добавляем слой Activation\n",
    "\n",
    "    x = Conv2D(256, (3, 3), padding='same', name='block3_conv2')(x)        # Добавляем Conv2D-слой с 256-нейронами\n",
    "    x = BatchNormalization()(x)                                            # Добавляем слой BatchNormalization\n",
    "    x = Activation('relu')(x)                                              # Добавляем слой Activation\n",
    "\n",
    "    x = Conv2D(256, (3, 3), padding='same', name='block3_conv3')(x)        # Добавляем Conv2D-слой с 256-нейронами\n",
    "    x = BatchNormalization()(x)                                            # Добавляем слой BatchNormalization\n",
    "    block_3_out = Activation('relu')(x)                                    # Добавляем слой Activation и запоминаем в переменной block_3_out\n",
    "\n",
    "    x = MaxPooling2D()(block_3_out)                                        # Добавляем слой MaxPooling2D\n",
    "\n",
    "    # Block 4\n",
    "    x = Conv2D(512, (3, 3), padding='same', name='block4_conv1')(x)        # Добавляем Conv2D-слой с 512-нейронами\n",
    "    x = BatchNormalization()(x)                                            # Добавляем слой BatchNormalization\n",
    "    x = Activation('relu')(x)                                              # Добавляем слой Activation\n",
    "\n",
    "    x = Conv2D(512, (3, 3), padding='same', name='block4_conv2')(x)        # Добавляем Conv2D-слой с 256-нейронами\n",
    "    x = BatchNormalization()(x)                                            # Добавляем слой BatchNormalization\n",
    "    x = Activation('relu')(x)                                              # Добавляем слой Activation\n",
    "\n",
    "    x = Conv2D(512, (3, 3), padding='same', name='block4_conv3')(x)        # Добавляем Conv2D-слой с 256-нейронами\n",
    "    x = BatchNormalization()(x)                                            # Добавляем слой BatchNormalization\n",
    "    block_4_out = Activation('relu')(x)                                    # Добавляем слой Activation и запоминаем в переменной block_4_out\n",
    "    x = block_4_out \n",
    "\n",
    "    # UP 2\n",
    "    x = Conv2DTranspose(256, (2, 2), strides=(2, 2), padding='same')(x)    # Добавляем слой Conv2DTranspose с 256 нейронами\n",
    "    x = BatchNormalization()(x)                                            # Добавляем слой BatchNormalization\n",
    "    x = Activation('relu')(x)                                              # Добавляем слой Activation\n",
    "\n",
    "    x = concatenate([x, block_3_out])                                      # Объединем текущий слой со слоем block_3_out\n",
    "    x = Conv2D(256, (3, 3), padding='same')(x)                             # Добавляем слой Conv2D с 256 нейронами\n",
    "    x = BatchNormalization()(x)                                            # Добавляем слой BatchNormalization\n",
    "    x = Activation('relu')(x)                                              # Добавляем слой Activation\n",
    "\n",
    "    x = Conv2D(256, (3, 3), padding='same')(x)\n",
    "    x = BatchNormalization()(x)                                            # Добавляем слой BatchNormalization\n",
    "    x = Activation('relu')(x)                                              # Добавляем слой Activation\n",
    "\n",
    "    # UP 3\n",
    "    x = Conv2DTranspose(128, (2, 2), strides=(2, 2), padding='same')(x)    # Добавляем слой Conv2DTranspose с 128 нейронами\n",
    "    x = BatchNormalization()(x)                                            # Добавляем слой BatchNormalization\n",
    "    x = Activation('relu')(x)                                              # Добавляем слой Activation\n",
    "\n",
    "    x = concatenate([x, block_2_out])                                      # Объединем текущий слой со слоем block_2_out\n",
    "    x = Conv2D(128, (3, 3), padding='same')(x)                             # Добавляем слой Conv2D с 128 нейронами\n",
    "    x = BatchNormalization()(x)                                            # Добавляем слой BatchNormalization\n",
    "    x = Activation('relu')(x)                                              # Добавляем слой Activation\n",
    "\n",
    "    x = Conv2D(128, (3, 3), padding='same')(x) # Добавляем слой Conv2D с 128 нейронами\n",
    "    x = BatchNormalization()(x) # Добавляем слой BatchNormalization\n",
    "    x = Activation('relu')(x) # Добавляем слой Activation\n",
    "\n",
    "    # UP 4\n",
    "    x = Conv2DTranspose(64, (2, 2), strides=(2, 2), padding='same')(x) # Добавляем слой Conv2DTranspose с 64 нейронами\n",
    "    x = BatchNormalization()(x) # Добавляем слой BatchNormalization\n",
    "    x = Activation('relu')(x) # Добавляем слой Activation\n",
    "\n",
    "    x = concatenate([x, block_1_out])  # Объединем текущий слой со слоем block_1_out\n",
    "    x = Conv2D(64, (3, 3), padding='same')(x) # Добавляем слой Conv2D с 64 нейронами\n",
    "    x = BatchNormalization()(x) # Добавляем слой BatchNormalization\n",
    "    x = Activation('relu')(x) # Добавляем слой Activation\n",
    "\n",
    "    x = Conv2D(64, (3, 3), padding='same')(x) # Добавляем слой Conv2D с 64 нейронами\n",
    "    x = BatchNormalization()(x) # Добавляем слой BatchNormalization\n",
    "    x = Activation('relu')(x) # Добавляем слой Activation\n",
    "\n",
    "    x = Conv2D(num_classes, (3, 3), activation='softmax', padding='same')(x)  # Добавляем Conv2D-Слой с softmax-активацией на num_classes-нейронов\n",
    "\n",
    "    model = Model(img_input, x) # Создаем модель с входом 'img_input' и выходом 'x'\n",
    "\n",
    "    # Компилируем модель \n",
    "    model.compile(optimizer=Adam(),\n",
    "                  loss='categorical_crossentropy',\n",
    "                  metrics=[dice_coef])\n",
    "    \n",
    "    return model "
   ]
  },
  {
   "cell_type": "code",
   "execution_count": 59,
   "metadata": {
    "cellId": "qby3r9gem1mp0bswi8gw5"
   },
   "outputs": [
    {
     "name": "stderr",
     "output_type": "stream",
     "text": [
      "2022-07-20 22:03:28.966935: W tensorflow/python/util/util.cc:348] Sets are not currently considered sequences, but this may change in the future, so consider avoiding using them.\n"
     ]
    },
    {
     "name": "stdout",
     "output_type": "stream",
     "text": [
      "INFO:tensorflow:Assets written to: /home/jupyter/work/resources/NIIAS-RZD/models/00-Unet/assets\n"
     ]
    }
   ],
   "source": [
    "#!g1.1\n",
    "# Создаем модель и сохраняем ее \n",
    "modelUnet = unet(num_classes, (img_height, img_width, 3))\n",
    "# modelPSPnet.summary()\n",
    "\n",
    "model_file = os.path.join(model_path, '00-Unet')\n",
    "modelUnet.save(model_file, save_format='tf')"
   ]
  },
  {
   "cell_type": "code",
   "execution_count": 81,
   "metadata": {
    "cellId": "tujsit3rkkg11njyjboo9v8"
   },
   "outputs": [
    {
     "name": "stdout",
     "output_type": "stream",
     "text": [
      "340/340 [==============================] - 61s 178ms/step - loss: 0.1325 - dice_coef: 0.9291 - val_loss: 0.2772 - val_dice_coef: 0.8828\n",
      "Epoch 5/10\n",
      "340/340 [==============================] - 61s 179ms/step - loss: 0.1250 - dice_coef: 0.9323 - val_loss: 0.2769 - val_dice_coef: 0.8969\n",
      "Epoch 6/10\n",
      "340/340 [==============================] - 61s 179ms/step - loss: 0.1123 - dice_coef: 0.9389 - val_loss: 0.2441 - val_dice_coef: 0.9017\n",
      "Epoch 7/10\n",
      "340/340 [==============================] - 61s 179ms/step - loss: 0.1005 - dice_coef: 0.9448 - val_loss: 0.2733 - val_dice_coef: 0.9130\n",
      "Epoch 8/10\n",
      "340/340 [==============================] - 61s 179ms/step - loss: 0.0932 - dice_coef: 0.9484 - val_loss: 0.2825 - val_dice_coef: 0.9091\n",
      "Epoch 9/10\n",
      "340/340 [==============================] - 61s 179ms/step - loss: 0.0878 - dice_coef: 0.9514 - val_loss: 0.2714 - val_dice_coef: 0.9139\n",
      "Epoch 10/10\n",
      "340/340 [==============================] - 61s 179ms/step - loss: 0.0794 - dice_coef: 0.9555 - val_loss: 0.2744 - val_dice_coef: 0.9136\n",
      "INFO:tensorflow:Assets written to: /home/jupyter/work/resources/NIIAS-RZD/models/14-Unet/assets\n",
      "\n",
      "Обучение на выборке data15.npz\n",
      "Epoch 1/10\n",
      "340/340 [==============================] - 62s 182ms/step - loss: 0.1986 - dice_coef: 0.8987 - val_loss: 0.2710 - val_dice_coef: 0.8643\n",
      "Epoch 2/10\n",
      "340/340 [==============================] - 61s 178ms/step - loss: 0.1622 - dice_coef: 0.9140 - val_loss: 0.3058 - val_dice_coef: 0.8876\n",
      "Epoch 3/10\n",
      "340/340 [==============================] - 61s 178ms/step - loss: 0.1400 - dice_coef: 0.9251 - val_loss: 0.2536 - val_dice_coef: 0.8858\n",
      "Epoch 4/10\n",
      "340/340 [==============================] - 61s 179ms/step - loss: 0.1266 - dice_coef: 0.9305 - val_loss: 0.2793 - val_dice_coef: 0.8898\n",
      "Epoch 5/10\n",
      "340/340 [==============================] - 61s 179ms/step - loss: 0.1205 - dice_coef: 0.9346 - val_loss: 0.2947 - val_dice_coef: 0.8935\n",
      "Epoch 6/10\n",
      "340/340 [==============================] - 61s 179ms/step - loss: 0.1078 - dice_coef: 0.9405 - val_loss: 0.3225 - val_dice_coef: 0.8944\n",
      "Epoch 7/10\n",
      "340/340 [==============================] - 61s 179ms/step - loss: 0.0995 - dice_coef: 0.9447 - val_loss: 0.3088 - val_dice_coef: 0.8984\n",
      "Epoch 8/10\n",
      "340/340 [==============================] - 61s 179ms/step - loss: 0.0913 - dice_coef: 0.9492 - val_loss: 0.3341 - val_dice_coef: 0.8992\n",
      "Epoch 9/10\n",
      "340/340 [==============================] - 61s 179ms/step - loss: 0.0920 - dice_coef: 0.9492 - val_loss: 0.3209 - val_dice_coef: 0.8980\n",
      "Epoch 10/10\n",
      "340/340 [==============================] - 61s 179ms/step - loss: 0.0787 - dice_coef: 0.9557 - val_loss: 0.3064 - val_dice_coef: 0.9068\n",
      "INFO:tensorflow:Assets written to: /home/jupyter/work/resources/NIIAS-RZD/models/15-Unet/assets\n",
      "Время выполнения: 6935.52c\n"
     ]
    },
    {
     "name": "stderr",
     "output_type": "stream",
     "text": [
      "2022-07-21 11:34:56.614747: I tensorflow/core/platform/cpu_feature_guard.cc:142] This TensorFlow binary is optimized with oneAPI Deep Neural Network Library (oneDNN) to use the following CPU instructions in performance-critical operations:  AVX2 AVX512F FMA\n",
      "To enable them in other operations, rebuild TensorFlow with the appropriate compiler flags.\n",
      "2022-07-21 11:34:57.388714: I tensorflow/core/common_runtime/gpu/gpu_device.cc:1510] Created device /job:localhost/replica:0/task:0/device:GPU:0 with 30995 MB memory:  -> device: 0, name: Tesla V100-SXM2-32GB, pci bus id: 0000:8c:00.0, compute capability: 7.0\n",
      "2022-07-21 11:41:18.165194: I tensorflow/compiler/mlir/mlir_graph_optimization_pass.cc:185] None of the MLIR Optimization Passes are enabled (registered 2)\n",
      "2022-07-21 11:41:22.491016: I tensorflow/stream_executor/cuda/cuda_dnn.cc:369] Loaded cuDNN version 8101\n",
      "2022-07-21 11:51:42.491246: W tensorflow/python/util/util.cc:348] Sets are not currently considered sequences, but this may change in the future, so consider avoiding using them.\n",
      "/kernel/lib/python3.8/site-packages/ml_kernel/kernel.py:873: UserWarning: The following variables cannot be serialized: data, history, history_list, modelUnet\n",
      "  warnings.warn(message)\n"
     ]
    }
   ],
   "source": [
    "#!g1.1\n",
    "# Обучаем на нескольких выборках\n",
    "N_np = 10\n",
    "start_from = 6 # нумерации файлов \n",
    "\n",
    "history_list = []\n",
    "\n",
    "# Загружаем модель (поправить вручную)\n",
    "model_file = os.path.join(model_path, '05-Unet')\n",
    "modelUnet = load_model(model_file, custom_objects={'dice_coef':dice_coef})\n",
    "\n",
    "cur_time = time.time()\n",
    "for n in range(N_np):\n",
    "    np_file = np_files[start_from + n - 1]\n",
    "    data = np.load(os.path.join(data_path, np_file))\n",
    "    images_np = data['a']\n",
    "    anns_np = data['b']\n",
    "    print(\"\\nОбучение на выборке {}\".format(np_file))\n",
    "    \n",
    "    x_train, x_val, y_train, y_val = train_test_split(images_np, anns_np, test_size=0.15, shuffle=True)   \n",
    "    \n",
    "    history = modelUnet.fit(x_train, y_train, epochs=10, batch_size=2, validation_data = (x_val, y_val)) \n",
    "    history_list.append(history)\n",
    "    \n",
    "    file_number = \"%02d\" % (start_from + n)\n",
    "    model_file = os.path.join(model_path, file_number + '-Unet')\n",
    "    modelUnet.save(model_file, save_format='tf')\n",
    "    \n",
    "print(\"Время выполнения: \", round(time.time() - cur_time, 2), 'c', sep='')"
   ]
  },
  {
   "cell_type": "code",
   "execution_count": 82,
   "metadata": {
    "cellId": "yrxqhwjbkdoz0j1ukr3sr"
   },
   "outputs": [
    {
     "data": {
      "image/png": "[encoded data removed]",
      "text/plain": [
       "<Figure size 1152x360 with 1 Axes>"
      ]
     },
     "metadata": {
      "needs_background": "light"
     },
     "output_type": "display_data"
    },
    {
     "name": "stdout",
     "output_type": "stream",
     "text": [
      "Максимальная точность val_dice_coef = 0.9192 на эпохе 78.\n"
     ]
    },
    {
     "name": "stderr",
     "output_type": "stream",
     "text": [
      "/kernel/lib/python3.8/site-packages/ml_kernel/kernel.py:873: UserWarning: The following variables cannot be serialized: history, history_list, modelUnet\n",
      "  warnings.warn(message)\n"
     ]
    }
   ],
   "source": [
    "#!g1.1\n",
    "#Отображаем график точности в процессе обучения\n",
    "history_acc = []\n",
    "history_val = []\n",
    "for N in range(len(history_list)):\n",
    "    history_acc = history_acc + history_list[N].history['dice_coef']\n",
    "    history_val = history_val + history_list[N].history['val_dice_coef']\n",
    "\n",
    "plt.figure(figsize=(16,5))\n",
    "plt.plot(history_acc, \n",
    "         label='dice_coef')\n",
    "plt.plot(history_val, \n",
    "         label='val_dice_coef')\n",
    "plt.xlabel('Эпоха обучения')\n",
    "plt.ylabel('Метрики')\n",
    "plt.legend()\n",
    "plt.show()\n",
    "\n",
    "# Максимальная точность\n",
    "val_acc = np.array(history_val)\n",
    "print('Максимальная точность val_dice_coef = {} на эпохе {}.'.format(round(val_acc.max(),4), val_acc.argmax()))\n"
   ]
  }
 ],
 "metadata": {
  "celltoolbar": "Необработанный формат ячейки",
  "language_info": {
   "codemirror_mode": {
    "name": "ipython",
    "version": 3
   },
   "file_extension": ".py",
   "mimetype": "text/x-python",
   "name": "python",
   "nbconvert_exporter": "python",
   "pygments_lexer": "ipython3",
   "version": "3.7.7"
  },
  "notebookId": "f92a7050-ed90-4ba1-bfee-acbd3667b5a3",
  "notebookPath": "NIIAS-RZD/Модель Unet.ipynb"
 },
 "nbformat": 4,
 "nbformat_minor": 4
}
