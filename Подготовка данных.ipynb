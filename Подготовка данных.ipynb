{
 "cells": [
  {
   "cell_type": "markdown",
   "metadata": {},
   "source": [
    "## Подготовка данных для обучение (формирование выборок)"
   ]
  },
  {
   "cell_type": "markdown",
   "metadata": {},
   "source": [
    "Задумано обработать картинки и записать выборки в виде массивов. При этом исходный датасет будет разбит на N частей (массивов). Во первых чтобы съэкономить ограниченные ресурсы при обучении, а во вторых каждая модель, которых будет тоже N, будет обучаться на своей выборке.\n",
    "\n",
    "**Сколько картинок пойдет в каждый массив, сколько будет массивов и какова будет аугментация еще не решено**"
   ]
  },
  {
   "cell_type": "markdown",
   "metadata": {},
   "source": [
    "### Импорт библиотек"
   ]
  },
  {
   "cell_type": "code",
   "execution_count": 1,
   "metadata": {},
   "outputs": [
    {
     "name": "stdout",
     "output_type": "stream",
     "text": [
      "Python 3.9.13\r\n"
     ]
    }
   ],
   "source": [
    "!python --version"
   ]
  },
  {
   "cell_type": "code",
   "execution_count": 2,
   "metadata": {
    "scrolled": true
   },
   "outputs": [],
   "source": [
    "import numpy as np\n",
    "import random\n",
    "import os\n",
    "import time\n",
    "# from operator import itemgetter\n",
    "\n",
    "# import PIL\n",
    "import cv2 as cv\n",
    "# from PIL import Image\n",
    "import matplotlib.pyplot as plt \n",
    "\n",
    "import albumentations as A"
   ]
  },
  {
   "cell_type": "code",
   "execution_count": 4,
   "metadata": {},
   "outputs": [],
   "source": [
    "import random\n",
    "import numpy as np\n",
    "import tensorflow as tf\n",
    "\n",
    "SEED = 1111\n",
    "random.seed(SEED)\n",
    "np.random.seed(SEED)\n",
    "tf.random.set_seed(SEED)\n"
   ]
  },
  {
   "cell_type": "markdown",
   "metadata": {},
   "source": [
    "### Анализ данных"
   ]
  },
  {
   "cell_type": "code",
   "execution_count": 5,
   "metadata": {},
   "outputs": [
    {
     "name": "stdout",
     "output_type": "stream",
     "text": [
      "images\tmask\r\n"
     ]
    }
   ],
   "source": [
    "!ls /HDD/my_data/NIIAS-RZD/train"
   ]
  },
  {
   "cell_type": "code",
   "execution_count": 21,
   "metadata": {},
   "outputs": [],
   "source": [
    "# Пути к данным\n",
    "dataset_path = \"/HDD/my_data/NIIAS-RZD/train\"\n",
    "images_path = \"/HDD/my_data/NIIAS-RZD/train/images\"\n",
    "anns_path = \"/HDD/my_data/NIIAS-RZD/train/mask\"\n",
    "test_path = \"/HDD/my_data/NIIAS-RZD/test\""
   ]
  },
  {
   "cell_type": "code",
   "execution_count": 42,
   "metadata": {},
   "outputs": [],
   "source": [
    "# Пути к данным МАЛЫЙ ДАТАСЕТ (для подготовки кода)\n",
    "dataset_path = \"/HDD/my_data/NIIAS-RZD/train_small\"\n",
    "images_path = \"/HDD/my_data/NIIAS-RZD/train_small/images\"\n",
    "anns_path = \"/HDD/my_data/NIIAS-RZD/train_small/mask\"\n",
    "test_path = \"/HDD/my_data/NIIAS-RZD/test\""
   ]
  },
  {
   "cell_type": "code",
   "execution_count": 43,
   "metadata": {},
   "outputs": [],
   "source": [
    "# Создадим списки файлов\n",
    "img_names= [ os.path.join(images_path, file_name) for file_name in os.listdir(images_path)]\n",
    "ann_names = [ os.path.join(anns_path, file_name) for file_name in os.listdir(anns_path)]\n",
    "test_names= [ os.path.join(test_path, file_name) for file_name in os.listdir(test_path)]"
   ]
  },
  {
   "cell_type": "code",
   "execution_count": 59,
   "metadata": {
    "scrolled": true
   },
   "outputs": [
    {
     "name": "stdout",
     "output_type": "stream",
     "text": [
      "Имеем 99 картинок\n",
      "Встречаются размеры: {'(1080, 1920, 3)': 49, '(1512, 2688, 3)': 49, '(2160, 3840, 3)': 1}\n"
     ]
    }
   ],
   "source": [
    "# Посмотрим каких размеров картинки в датасете\n",
    "dict = {}\n",
    "for file_name  in img_names:\n",
    "    img = cv.imread(file_name)\n",
    "    if str(img.shape) in dict.keys():\n",
    "        dict[str(img.shape)] += 1\n",
    "    else:\n",
    "        dict[str(img.shape)] = 1\n",
    "    \n",
    "print(\"Имеем {} картинок\".format(len(sizes)))\n",
    "print(\"Встречаются размеры: {}\".format(dict))"
   ]
  },
  {
   "cell_type": "code",
   "execution_count": 1,
   "metadata": {},
   "outputs": [
    {
     "ename": "NameError",
     "evalue": "name 'test_names' is not defined",
     "output_type": "error",
     "traceback": [
      "\u001b[0;31m---------------------------------------------------------------------------\u001b[0m",
      "\u001b[0;31mNameError\u001b[0m                                 Traceback (most recent call last)",
      "\u001b[0;32m<ipython-input-1-08a611dd0f98>\u001b[0m in \u001b[0;36m<module>\u001b[0;34m\u001b[0m\n\u001b[1;32m      1\u001b[0m \u001b[0;31m# Посмотрим каких размеров картинки для теста\u001b[0m\u001b[0;34m\u001b[0m\u001b[0;34m\u001b[0m\u001b[0;34m\u001b[0m\u001b[0m\n\u001b[1;32m      2\u001b[0m \u001b[0mdict\u001b[0m \u001b[0;34m=\u001b[0m \u001b[0;34m{\u001b[0m\u001b[0;34m}\u001b[0m\u001b[0;34m\u001b[0m\u001b[0;34m\u001b[0m\u001b[0m\n\u001b[0;32m----> 3\u001b[0;31m \u001b[0;32mfor\u001b[0m \u001b[0mfile_name\u001b[0m  \u001b[0;32min\u001b[0m \u001b[0mtest_names\u001b[0m\u001b[0;34m:\u001b[0m\u001b[0;34m\u001b[0m\u001b[0;34m\u001b[0m\u001b[0m\n\u001b[0m\u001b[1;32m      4\u001b[0m     \u001b[0mimg\u001b[0m \u001b[0;34m=\u001b[0m \u001b[0mcv\u001b[0m\u001b[0;34m.\u001b[0m\u001b[0mimread\u001b[0m\u001b[0;34m(\u001b[0m\u001b[0mfile_name\u001b[0m\u001b[0;34m)\u001b[0m\u001b[0;34m\u001b[0m\u001b[0;34m\u001b[0m\u001b[0m\n\u001b[1;32m      5\u001b[0m     \u001b[0;32mif\u001b[0m \u001b[0mstr\u001b[0m\u001b[0;34m(\u001b[0m\u001b[0mimg\u001b[0m\u001b[0;34m.\u001b[0m\u001b[0mshape\u001b[0m\u001b[0;34m)\u001b[0m \u001b[0;32min\u001b[0m \u001b[0mdict\u001b[0m\u001b[0;34m.\u001b[0m\u001b[0mkeys\u001b[0m\u001b[0;34m(\u001b[0m\u001b[0;34m)\u001b[0m\u001b[0;34m:\u001b[0m\u001b[0;34m\u001b[0m\u001b[0;34m\u001b[0m\u001b[0m\n",
      "\u001b[0;31mNameError\u001b[0m: name 'test_names' is not defined"
     ]
    }
   ],
   "source": [
    "# Посмотрим каких размеров картинки для теста\n",
    "dict = {}\n",
    "for file_name  in test_names:\n",
    "    img = cv.imread(file_name)\n",
    "    if str(img.shape) in dict.keys():\n",
    "        dict[str(img.shape)] += 1\n",
    "    else:\n",
    "        dict[str(img.shape)] = 1\n",
    "    \n",
    "print(\"Имеем {} тестовых картинок\".format(len(sizes)))\n",
    "print(\"Встречаются размеры: {}\".format(dict))"
   ]
  },
  {
   "cell_type": "markdown",
   "metadata": {},
   "source": [
    "**TODO: более подробно проанализировать данные**"
   ]
  },
  {
   "cell_type": "code",
   "execution_count": null,
   "metadata": {},
   "outputs": [],
   "source": [
    "# Посмотрим n оригинальных случайных картинок из тренировочной выборки\n",
    "\n",
    "n = 5 \n",
    "fig, axs = plt.subplots(1, n, figsize=(25, 10))   # Создаем полотно из n графиков\n",
    "\n",
    "for i in range(n):                                # Выводим в цикле n случайных изображений\n",
    "  img = random.choice(train_images)               # Выбираем случайное фото для отображения\n",
    "  axs[i].axis('off')\n",
    "  axs[i].imshow(img)               # Отображаем фото\n",
    "\n",
    "plt.show()                         # Показываем изображения"
   ]
  },
  {
   "cell_type": "markdown",
   "metadata": {},
   "source": [
    "### Подготовка аугментации"
   ]
  },
  {
   "cell_type": "code",
   "execution_count": 40,
   "metadata": {},
   "outputs": [
    {
     "name": "stdout",
     "output_type": "stream",
     "text": [
      " baseline   main.py   README.md   RZD  'Подготовка данных.ipynb'\r\n"
     ]
    }
   ],
   "source": [
    "!ls"
   ]
  }
 ],
 "metadata": {
  "kernelspec": {
   "display_name": "py39",
   "language": "python",
   "name": "py39"
  },
  "language_info": {
   "codemirror_mode": {
    "name": "ipython",
    "version": 3
   },
   "file_extension": ".py",
   "mimetype": "text/x-python",
   "name": "python",
   "nbconvert_exporter": "python",
   "pygments_lexer": "ipython3",
   "version": "3.9.13"
  }
 },
 "nbformat": 4,
 "nbformat_minor": 4
}
