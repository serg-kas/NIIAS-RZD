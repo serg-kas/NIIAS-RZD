{
 "cells": [
  {
   "cell_type": "markdown",
   "metadata": {
    "cellId": "xj2ogowm2f5x5566r6ipm",
    "execution_id": "ae8d605a-e88d-46fa-b762-44adb21ae018"
   },
   "source": [
    "## Подготовка данных для обучение (формирование выборок)"
   ]
  },
  {
   "cell_type": "markdown",
   "metadata": {
    "cellId": "l8auu75nejfhz0mmsaxqtb",
    "execution_id": "2ec68c1c-7d01-4768-a330-afba329d3aae"
   },
   "source": [
    "Брали рандомным образом по 800 картинок в выборку, сделали 30 выборок.\n",
    "В среднем каждая картинка попала в выборку 800/8000 * 30 = 3 раза (в разных аугментациях).\n",
    "Вероятность что определенная картинка ни в одну выборку не попала 0.9 ^ 30 = 0.04"
   ]
  },
  {
   "cell_type": "markdown",
   "metadata": {
    "cellId": "yea1219hzviu56mnoj2vue"
   },
   "source": [
    "### Импорт библиотек"
   ]
  },
  {
   "cell_type": "code",
   "execution_count": null,
   "metadata": {
    "cellId": "4w37vubti4filnkud6p6m",
    "scrolled": true
   },
   "outputs": [],
   "source": [
    "import numpy as np\n",
    "import random\n",
    "import os\n",
    "import time\n",
    "\n",
    "import cv2 as cv\n",
    "import matplotlib.pyplot as plt \n",
    "\n",
    "import albumentations as A"
   ]
  },
  {
   "cell_type": "markdown",
   "metadata": {
    "cellId": "yddhqyc0i4cqmexji7t5qs",
    "execution_id": "bc433299-da7d-4ddf-bd09-d7425a47b4ab"
   },
   "source": [
    "### Анализ данных"
   ]
  },
  {
   "cell_type": "code",
   "execution_count": null,
   "metadata": {
    "cellId": "xq83ofs7kavci92h4utf"
   },
   "outputs": [],
   "source": [
    "# Пути к данным\n",
    "dataset_path = \"/home/jupyter/work/resources/train/\"\n",
    "images_path = \"/home/jupyter/work/resources/train/images\"\n",
    "anns_path = \"/home/jupyter/work/resources/train/mask\"\n",
    "test_path = \"/home/jupyter/work/resources/test\""
   ]
  },
  {
   "cell_type": "code",
   "execution_count": null,
   "metadata": {
    "cellId": "vidb2zpiyrehsmv2kt31s9"
   },
   "outputs": [],
   "source": [
    "# Создадим списки файлов с путями к ним\n",
    "img_names= [ os.path.join(images_path, file_name) for file_name in os.listdir(images_path)]\n",
    "ann_names = [ os.path.join(anns_path, file_name) for file_name in os.listdir(anns_path)]\n",
    "test_names= [ os.path.join(test_path, file_name) for file_name in os.listdir(test_path)]"
   ]
  },
  {
   "cell_type": "markdown",
   "metadata": {
    "cellId": "wdhp61ghqjj33o7k29fxpi",
    "execution_id": "91a4bc14-d90a-451e-b3e8-5c233df2a1b0"
   },
   "source": [
    "=================================================================================="
   ]
  },
  {
   "cell_type": "code",
   "execution_count": null,
   "metadata": {
    "cellId": "yf37hy9k1jn800lrf246ak"
   },
   "outputs": [],
   "source": [
    "# Проверим что каждой картинке соответствует ее размеченный вариант\n",
    "error_count = 0\n",
    "cur_time = time.time()\n",
    "for file_name in os.listdir(images_path):\n",
    "    if  not file_name in os.listdir(anns_path):\n",
    "        print(\"Не нашли аннотацию для файла {}\".format(file_name))\n",
    "        error_count += 1\n",
    "        \n",
    "if error_count == 0:\n",
    "    print(\"Все аннотации на месте\")\n",
    "else:\n",
    "    print(\"Всего не нашли аннотаций для {} файлов\".format(error_count))   \n",
    "print(\"Время выполнения: \", round(time.time() - cur_time, 2), 'c', sep='')"
   ]
  },
  {
   "cell_type": "code",
   "execution_count": null,
   "metadata": {
    "cellId": "brhw1bo8mgpewqnw0fd4hq",
    "scrolled": true
   },
   "outputs": [],
   "source": [
    "# Посмотрим каких размеров картинки в датасете\n",
    "dict = {}\n",
    "cur_time = time.time()\n",
    "for file_name  in img_names:\n",
    "    img = cv.imread(file_name)\n",
    "    if str(img.shape) in dict.keys():\n",
    "        dict[str(img.shape)] += 1\n",
    "    else:\n",
    "        dict[str(img.shape)] = 1\n",
    "    \n",
    "print(\"Имеем {} картинок\".format(len(img_names)))\n",
    "print(\"Встречаются размеры: {}\".format(dict))\n",
    "print(\"Время выполнения: \", round(time.time() - cur_time, 2), 'c', sep='')"
   ]
  },
  {
   "cell_type": "code",
   "execution_count": null,
   "metadata": {
    "cellId": "32te7f2yxfl1e17hyf0hzg",
    "scrolled": true
   },
   "outputs": [],
   "source": [
    "# Посмотрим каких размеров картинки для теста\n",
    "dict = {}\n",
    "cur_time = time.time()\n",
    "for file_name  in test_names:\n",
    "    img = cv.imread(file_name)\n",
    "    if str(img.shape) in dict.keys():\n",
    "        dict[str(img.shape)] += 1\n",
    "    else:\n",
    "        dict[str(img.shape)] = 1\n",
    "    \n",
    "print(\"Имеем {} тестовых картинок\".format(len(test_names)))\n",
    "print(\"Встречаются размеры: {}\".format(dict))\n",
    "print(\"Время выполнения: \", round(time.time() - cur_time, 2), 'c', sep='')"
   ]
  },
  {
   "cell_type": "code",
   "execution_count": null,
   "metadata": {
    "cellId": "ty3xr6yy8hr6wc5684q017"
   },
   "outputs": [],
   "source": [
    "# Соберем информацию о классах разметки сегментации\n",
    "ann_set = np.array([])\n",
    "cur_time = time.time()\n",
    "for file_name  in ann_names:\n",
    "    ann = cv.imread(file_name)\n",
    "    curr_set = np.unique(ann)\n",
    "    ann_set = np.union1d(ann_set, curr_set)\n",
    "    \n",
    "print(\"Получили классы разметки: {}\".format(ann_set))\n",
    "print(\"Время выполнения: \", round(time.time() - cur_time, 2), 'c', sep='')"
   ]
  },
  {
   "cell_type": "markdown",
   "metadata": {
    "cellId": "hci9o68njkpffz8easux7n"
   },
   "source": [
    "**0 фон**\n",
    "\n",
    "**6 прочие пути**\n",
    " \n",
    "**7 главный путь**\n",
    "\n",
    "**10 подвижной состав**"
   ]
  },
  {
   "cell_type": "code",
   "execution_count": null,
   "metadata": {
    "cellId": "951yboijkf7ddmdv4r02bl"
   },
   "outputs": [],
   "source": [
    "# Проверим нет ли файлов без разметки (где в маске только класс 0)\n",
    "error_list = []\n",
    "cur_time = time.time()\n",
    "\n",
    "for file_name  in ann_names:\n",
    "    ann = cv.imread(file_name)\n",
    "    curr_set = np.unique(ann)\n",
    "\n",
    "    if len(curr_set)==1:\n",
    "        error_list.append(file_name)\n",
    "        print(\"В файле {} только класс {}\".format(file_name, curr_set))\n",
    "        \n",
    "if len(error_list)==0:\n",
    "    print(\"Файлов без разметки (кроме фона) не найдено\")\n",
    "print(\"Время выполнения: \", round(time.time() - cur_time, 2), 'c', sep='')"
   ]
  },
  {
   "cell_type": "code",
   "execution_count": null,
   "metadata": {
    "cellId": "c2um5izi205ycpqd0eptar"
   },
   "outputs": [],
   "source": [
    "# найденные файлы без разметки удалим\n",
    "for file_name in error_list:\n",
    "    print(file_name)\n",
    "    print(os.path.join(images_path, os.path.basename(file_name)))\n",
    "    os.remove(file_name)\n",
    "    os.remove(os.path.join(images_path, os.path.basename(file_name)))\n",
    "# списки файлов пересоздадим\n",
    "img_names= [ os.path.join(images_path, file_name) for file_name in os.listdir(images_path)]\n",
    "ann_names = [ os.path.join(anns_path, file_name) for file_name in os.listdir(anns_path)]\n"
   ]
  },
  {
   "cell_type": "markdown",
   "metadata": {
    "cellId": "4azr1yam6mzks2ddlsulye",
    "execution_id": "ddaab9d1-a102-400c-95cb-6e1ce573fac3"
   },
   "source": [
    "=================================================================================="
   ]
  },
  {
   "cell_type": "code",
   "execution_count": null,
   "metadata": {
    "cellId": "vz97sli88xxm9fk9x3wj"
   },
   "outputs": [],
   "source": [
    "# Посмотрим n оригинальных случайных картинок из тренировочной выборки\n",
    "n = 4\n",
    "fig, axs = plt.subplots(1, n, figsize=(25, 10))  \n",
    "\n",
    "n_files = random.choices(img_names, k=n) \n",
    "\n",
    "for i,file in enumerate(n_files):                               \n",
    "  image = cv.imread(file)\n",
    "  axs[i].axis('off')\n",
    "  axs[i].imshow(image)             \n",
    "\n",
    "plt.show()   "
   ]
  },
  {
   "cell_type": "code",
   "execution_count": null,
   "metadata": {
    "cellId": "7hduvla73cypjigm1vfkg"
   },
   "outputs": [],
   "source": [
    "# Посмотрим n оригинальных случайных картинок из тренировочной выборки c наложением маски\n",
    "# (маску визуалилируем с прозрачностью)\n",
    "n = 4\n",
    "fig, axs = plt.subplots(1, n, figsize=(25, 10))  \n",
    "\n",
    "n_files = random.choices(img_names, k=n) \n",
    "\n",
    "for i,file in enumerate(n_files):                               \n",
    "  image = cv.imread(file)\n",
    "  ann = cv.imread(os.path.join(anns_path, os.path.basename(file)), 0) * 25\n",
    "    \n",
    "  image[:, :, 0] = np.where(ann == 0, image[:, :, 0], image[:, :, 0] * 0.3 + ann*0.7)\n",
    "  image[:, :, 1] = np.where(ann == 0, image[:, :, 1], image[:, :, 1] * 0.3 + ann*0.7)\n",
    "  image[:, :, 2] = np.where(ann == 0, image[:, :, 2], image[:, :, 2] * 0.3 + ann*0.7)\n",
    "\n",
    "  \n",
    "  axs[i].axis('off')\n",
    "  axs[i].imshow(image)             \n",
    "\n",
    "plt.show()   "
   ]
  },
  {
   "cell_type": "markdown",
   "metadata": {
    "cellId": "awf0nzgx6nw9zqsqp1lon6"
   },
   "source": [
    "### Функции"
   ]
  },
  {
   "cell_type": "code",
   "execution_count": null,
   "metadata": {
    "cellId": "a01c33v98uoh2b1kq2ze75"
   },
   "outputs": [],
   "source": [
    "# Функция преобразования аннотации в one hot encoding\n",
    "# classes = [0, 6, 7, 10]\n",
    "def mask_to_ohe(ann_image, classes=[0, 6, 7, 10]):\n",
    "    \n",
    "    ones = np.ones((ann_image.shape[0], ann_image.shape[1], len(classes)),dtype = np.uint8)\n",
    "    zeros = np.zeros((ann_image.shape[0], ann_image.shape[1], len(classes)),dtype = np.uint8)\n",
    "    \n",
    "    result = zeros.copy()\n",
    "    \n",
    "    result[:, :, 0] = np.where(ann_image == 0, ones[:, :, 0], zeros[:, :, 0])\n",
    "    result[:, :, 1] = np.where(ann_image == 6, ones[:, :, 1], zeros[:, :, 1])\n",
    "    result[:, :, 2] = np.where(ann_image == 7, ones[:, :, 2], zeros[:, :, 2])\n",
    "    result[:, :, 3] = np.where(ann_image == 10, ones[:, :, 3], zeros[:, :, 3])\n",
    "    \n",
    "    return result"
   ]
  },
  {
   "cell_type": "code",
   "execution_count": null,
   "metadata": {
    "cellId": "3nwyhog0t5rezwcn34n0s"
   },
   "outputs": [],
   "source": [
    "# Функция преобразования аннотации из ohe в классы\n",
    "def ohe_to_mask(ann_ohe, classes=[0, 6, 7, 10]):\n",
    "    \n",
    "    ones = np.ones((ann_ohe.shape[0], ann_ohe.shape[1]),dtype = np.uint8)\n",
    "    zeros = np.zeros((ann_ohe.shape[0], ann_ohe.shape[1]),dtype = np.uint8)\n",
    "    \n",
    "    result = zeros.copy()    \n",
    "    \n",
    "    result = np.where(ann_ohe[:,:,0] == 1, ones * 0, result)\n",
    "    result = np.where(ann_ohe[:,:,1] == 1, ones * 6, result)\n",
    "    result = np.where(ann_ohe[:,:,2] == 1, ones * 7, result)\n",
    "    result = np.where(ann_ohe[:,:,3] == 1, ones * 10, result)\n",
    "    \n",
    "    return result    "
   ]
  },
  {
   "cell_type": "code",
   "execution_count": null,
   "metadata": {
    "cellId": "cvlrzdlkigennenj59c4tb"
   },
   "outputs": [],
   "source": [
    "# Функция автокоррекции контраста\n",
    "def autocontrast(img):\n",
    "    # converting to LAB color space\n",
    "    lab= cv.cvtColor(img, cv.COLOR_BGR2LAB)\n",
    "    l_channel, a, b = cv.split(lab)\n",
    "    \n",
    "    # Applying CLAHE to L-channel\n",
    "    # feel free to try different values for the limit and grid size:\n",
    "    clahe = cv.createCLAHE(clipLimit=2.0, tileGridSize=(8,8))\n",
    "    cl = clahe.apply(l_channel)\n",
    "\n",
    "    # merge the CLAHE enhanced L-channel with the a and b channel\n",
    "    limg = cv.merge((cl,a,b))\n",
    "\n",
    "    # Converting image from LAB Color model to BGR color spcae\n",
    "    result = cv.cvtColor(limg, cv.COLOR_LAB2BGR)\n",
    "    \n",
    "    return(result)"
   ]
  },
  {
   "cell_type": "markdown",
   "metadata": {
    "cellId": "tyxlpikmxrwiyv1v1uoc",
    "execution_id": "6b650bda-9835-4ba0-a371-9f18d4870278"
   },
   "source": [
    "### Подготовка выборок"
   ]
  },
  {
   "cell_type": "code",
   "execution_count": null,
   "metadata": {
    "cellId": "2ky6rokuybtcv5jce1bom"
   },
   "outputs": [],
   "source": [
    "# Для выборок берем 8000 картинок, остальные оставим для тестов\n",
    "img_names_for_np = img_names[:-202]\n",
    "img_names_for_test = img_names[-202:]\n",
    "print(\"Для выборок берем {} картинок\".format(len(img_names_for_np)))\n",
    "print(\"Для тестов оставили {} картинок\".format(len(img_names_for_test)))"
   ]
  },
  {
   "cell_type": "code",
   "execution_count": null,
   "metadata": {
    "cellId": "rzoxsxbxneq8rqi80tl7h",
    "scrolled": true
   },
   "outputs": [],
   "source": [
    "# Сохраним список файлов, оставленных для тестов\n",
    "import pandas as pd\n",
    "my_df = pd.DataFrame(img_names_for_test)\n",
    "my_df.to_csv('/home/jupyter/work/resources/NIIAS-RZD/imgs_for_test.csv', index=False, header=False)"
   ]
  },
  {
   "cell_type": "code",
   "execution_count": null,
   "metadata": {
    "cellId": "ulp18nd2d5n5lmk5p1do"
   },
   "outputs": [],
   "source": [
    "#!c1.8\n",
    "# Подготавливаем и сохраним N выборок\n",
    "N = 30\n",
    "# Путь для сохранения массивов\n",
    "data_np_path = \"/home/jupyter/work/resources/NIIAS-RZD/data_np\"\n",
    "start_from = 1  # нумерации файлов \n",
    "\n",
    "# Каждая выборка будет состоять из num_images картинок\n",
    "num_images = 800\n",
    "\n",
    "# Размеры, к которым приводим изображение\n",
    "img_height = 432      # 216\n",
    "img_width = 768       # 384        \n",
    "\n",
    "# Сколько классов сегментации\n",
    "classes = [0, 6, 7, 10] \n",
    "\n",
    "# Объявляем аугментацию\n",
    "transform = A.Compose([\n",
    "    A.Resize(height=img_height, width=img_width),\n",
    "    A.HorizontalFlip(p=0.5),    \n",
    "    A.OneOf([\n",
    "        A.RandomCrop(int(img_height*0.5), int(img_width*0.5), p=1),  \n",
    "        A.RandomCrop(int(img_height*0.75), int(img_width*0.75), p=1),    \n",
    "        A.RandomCrop(int(img_height*0.9), int(img_width*0.9), p=1),\n",
    "    ], p=0.9),\n",
    "    A.Resize(height=img_height, width=img_width),\n",
    "    A.RandomBrightnessContrast(p=0.5),\n",
    "    A.HueSaturationValue(p=0.5),\n",
    "    A.OneOf([\n",
    "        A.MotionBlur(blur_limit=15, p=1),\n",
    "        A.Blur(blur_limit=15, p=1),\n",
    "    ], p=0.2),\n",
    "])\n",
    "\n",
    "\n",
    "cur_time = time.time()\n",
    "for n in range(N):\n",
    "    print()\n",
    "    print(\"Готовим выборку {}\".format(n+1))\n",
    "    \n",
    "    images = []    \n",
    "    anns = []\n",
    "    \n",
    "    # Выбираем из 8000 картинок\n",
    "    random_files = random.choices(img_names_for_np, k=num_images)\n",
    "\n",
    "    # \n",
    "    for file_name in random_files:\n",
    "        # Берем картинку\n",
    "        curr_image = cv.imread(file_name)\n",
    "\n",
    "        # делаем предобработку (коррекцию контраста)\n",
    "        curr_image = autocontrast(curr_image)        \n",
    "        \n",
    "        # Переходим к RGB\n",
    "        curr_image = cv.cvtColor(curr_image, cv.COLOR_BGR2RGB)\n",
    "\n",
    "        # сохраним оригинальные размеры картинки\n",
    "#         curr_w = curr_image.shape[1]\n",
    "#         curr_h = curr_image.shape[0]\n",
    "\n",
    "        # делаем ресайз к целевым размерам\n",
    "#         curr_image = cv.resize(curr_image, (img_width, img_height), interpolation=cv.INTER_AREA)\n",
    "\n",
    "        # Берем аннотацию\n",
    "        curr_ann = cv.imread(os.path.join(anns_path, os.path.basename(file_name)), 0)\n",
    "    \n",
    "        # делаем аугментацию\n",
    "        transformed = transform(image=curr_image, mask=curr_ann)\n",
    "        transformed_image = transformed['image']\n",
    "        transformed_ann = transformed['mask']\n",
    "     \n",
    "        # переходим к диапазону 0 до 1 и отправляем картинку в список\n",
    "        images.append(transformed_image / 255.)\n",
    "  \n",
    "        # классы аннотации переводим ohe и отправляем в список\n",
    "        anns.append(mask_to_ohe(transformed_ann))\n",
    "        \n",
    "        # каждые 100 шагов \n",
    "        if len(images) % 100 == 0:\n",
    "            print(\"Обработано {} из {} картинок\".format(len(images), num_images)) \n",
    "        \n",
    "        \n",
    "    \n",
    "    # Сохраним массивы\n",
    "    images_np = np.array(images)\n",
    "    anns_np = np.array(anns)\n",
    "    \n",
    "    file_number = \"%02d\" % (start_from + n)\n",
    "    file_np = os.path.join(data_np_path, 'data'+ file_number)\n",
    "\n",
    "    print(\"Сохраняем выборку в {}\".format(file_np))\n",
    "    np.savez_compressed(file_np, a=images_np, b=anns_np)\n",
    "    \n",
    "    \n",
    "print(\"Время выполнения: \", round(time.time() - cur_time, 2), 'c', sep='')"
   ]
  },
  {
   "cell_type": "markdown",
   "metadata": {
    "cellId": "cysg3bg4gcjk7epgze4ols",
    "execution_id": "6707bbd3-c8f0-46b6-b945-6c824813a7ea"
   },
   "source": [
    "=================================================================================="
   ]
  },
  {
   "cell_type": "code",
   "execution_count": null,
   "metadata": {
    "cellId": "scp6nmifpnlch137onfpbb"
   },
   "outputs": [],
   "source": [
    "# Посмотрим как работает предобработка (автоконтраст)\n",
    "n = 4\n",
    "fig, axs = plt.subplots(2, n, figsize=(25, 10))  \n",
    "\n",
    "n_files = random.choices(img_names, k=n) \n",
    "\n",
    "for i,file in enumerate(n_files):                               \n",
    "  image = cv.imread(file)\n",
    "  axs[0,i].axis('off')\n",
    "  axs[0,i].imshow(image)\n",
    "\n",
    "  image = autocontrast(image)\n",
    "  axs[1,i].axis('off')\n",
    "  axs[1,i].imshow(image)             \n",
    "\n",
    "plt.show()  "
   ]
  },
  {
   "cell_type": "code",
   "execution_count": null,
   "metadata": {
    "cellId": "aa1lwcusma8j50jt7yrtk",
    "scrolled": true
   },
   "outputs": [],
   "source": [
    "# Посмотрим несколько подготовленных картинок после предобработки и аугментации\n",
    "n = 4\n",
    "fig, axs = plt.subplots(1, n, figsize=(25, 10))  \n",
    "\n",
    "for i in range(n): \n",
    "  \n",
    "  idx = random.randrange(len(images))\n",
    "  \n",
    "  image = (images_np[idx] * 255).astype(np.uint8)\n",
    "  ann = ohe_to_mask(anns_np[idx]) * 25\n",
    "    \n",
    "  image[:, :, 0] = np.where(ann == 0, image[:, :, 0], image[:, :, 0] * 0.3 + ann*0.7)\n",
    "  image[:, :, 1] = np.where(ann == 0, image[:, :, 1], image[:, :, 1] * 0.3 + ann*0.7)\n",
    "  image[:, :, 2] = np.where(ann == 0, image[:, :, 2], image[:, :, 2] * 0.3 + ann*0.7)\n",
    "\n",
    "  \n",
    "  axs[i].axis('off')\n",
    "  axs[i].imshow(image)             \n",
    "\n",
    "plt.show()   "
   ]
  },
  {
   "cell_type": "markdown",
   "metadata": {
    "cellId": "bgboa16bto8zk1f7q8i42o",
    "execution_id": "171b8f43-ba81-48a5-889a-df27f235b1f9"
   },
   "source": [
    "### Подготовка дополнительных выборок\n",
    "\n",
    "В выборки будут помещаться только те картинки, где есть подвижной состав (класс  10)"
   ]
  },
  {
   "cell_type": "code",
   "execution_count": null,
   "metadata": {
    "cellId": "etdymiz0lz92x3cu34s005"
   },
   "outputs": [],
   "source": [
    "#!c1.8\n",
    "# Подготавливаем и сохраним N выборок\n",
    "N = 10\n",
    "# Путь для сохранения массивов\n",
    "data_np_path = \"/home/jupyter/work/resources/NIIAS-RZD/data_np\"\n",
    "start_from = 51  # нумерации файлов \n",
    "\n",
    "# Каждая выборка будет состоять из num_images картинок\n",
    "num_images = 800\n",
    "\n",
    "# Размеры, к которым приводим изображение\n",
    "img_height = 432      # 216\n",
    "img_width = 768       # 384        \n",
    "\n",
    "# Сколько классов сегментации\n",
    "classes = [0, 6, 7, 10] \n",
    "# Обязательный класс\n",
    "must_have = classes[3]\n",
    "\n",
    "# Объявляем аугментацию\n",
    "transform = A.Compose([\n",
    "    A.Resize(height=img_height, width=img_width),\n",
    "    A.HorizontalFlip(p=0.5),    \n",
    "    A.OneOf([\n",
    "        A.RandomCrop(int(img_height*0.5), int(img_width*0.5), p=1),  \n",
    "        A.RandomCrop(int(img_height*0.75), int(img_width*0.75), p=1),    \n",
    "        A.RandomCrop(int(img_height*0.9), int(img_width*0.9), p=1),\n",
    "    ], p=0.9),\n",
    "    A.Resize(height=img_height, width=img_width),\n",
    "    A.RandomBrightnessContrast(p=0.5),\n",
    "    A.HueSaturationValue(p=0.5),\n",
    "    A.OneOf([\n",
    "        A.MotionBlur(blur_limit=15, p=1),\n",
    "        A.Blur(blur_limit=15, p=1),\n",
    "    ], p=0.2),\n",
    "])\n",
    "\n",
    "\n",
    "cur_time = time.time()\n",
    "for n in range(N):\n",
    "    print()\n",
    "    print(\"Готовим выборку {}\".format(n+1))\n",
    "    \n",
    "    images = []    \n",
    "    anns = []\n",
    "    \n",
    "    counter = 0\n",
    "    while counter < num_images:\n",
    "        # Выбираем по одной картинке из 8000 \n",
    "        file_name  = random.choice(img_names_for_np)\n",
    "\n",
    "        # Cначала берем аннотацию\n",
    "        curr_ann = cv.imread(os.path.join(anns_path, os.path.basename(file_name)), 0)\n",
    "        \n",
    "        # Пропускаем если нет нужного класса\n",
    "        curr_set = np.unique(curr_ann)\n",
    "        if must_have not in curr_set:\n",
    "            continue\n",
    "        \n",
    "        # Берем картинку\n",
    "        curr_image = cv.imread(file_name)\n",
    "\n",
    "        # делаем предобработку (коррекцию контраста)\n",
    "        curr_image = autocontrast(curr_image)        \n",
    "        \n",
    "        # Переходим к RGB\n",
    "        curr_image = cv.cvtColor(curr_image, cv.COLOR_BGR2RGB)\n",
    "\n",
    "        # сохраним оригинальные размеры картинки\n",
    "#         curr_w = curr_image.shape[1]\n",
    "#         curr_h = curr_image.shape[0]\n",
    "\n",
    "        # делаем ресайз к целевым размерам\n",
    "#         curr_image = cv.resize(curr_image, (img_width, img_height), interpolation=cv.INTER_AREA)\n",
    "    \n",
    "        # делаем аугментацию\n",
    "        transformed = transform(image=curr_image, mask=curr_ann)\n",
    "        transformed_image = transformed['image']\n",
    "        transformed_ann = transformed['mask']\n",
    "     \n",
    "        # переходим к диапазону 0 до 1 и отправляем картинку в список\n",
    "        images.append(transformed_image / 255.)\n",
    "  \n",
    "        # классы аннотации переводим ohe и отправляем в список\n",
    "        anns.append(mask_to_ohe(transformed_ann))\n",
    "        \n",
    "        # каждые 100 шагов \n",
    "        if len(images) % 100 == 0:\n",
    "            print(\"Обработано {} из {} картинок\".format(len(images), num_images)) \n",
    "        \n",
    "        # \n",
    "        counter += 1\n",
    "    \n",
    "    # Сохраним массивы\n",
    "    images_np = np.array(images)\n",
    "    anns_np = np.array(anns)\n",
    "    \n",
    "    file_number = \"%02d\" % (start_from + n)\n",
    "    file_np = os.path.join(data_np_path, 'data'+ file_number)\n",
    "\n",
    "    print(\"Сохраняем выборку в {}\".format(file_np))\n",
    "    np.savez_compressed(file_np, a=images_np, b=anns_np)\n",
    "    \n",
    "    \n",
    "print(\"Время выполнения: \", round(time.time() - cur_time, 2), 'c', sep='')"
   ]
  }
 ],
 "metadata": {
  "language_info": {
   "codemirror_mode": {
    "name": "ipython",
    "version": 3
   },
   "file_extension": ".py",
   "mimetype": "text/x-python",
   "name": "python",
   "nbconvert_exporter": "python",
   "pygments_lexer": "ipython3",
   "version": "3.7.7"
  },
  "notebookId": "e812ce47-6570-4ef0-88e5-a382d503fca2",
  "notebookPath": "NIIAS-RZD/Подготовка данных.ipynb"
 },
 "nbformat": 4,
 "nbformat_minor": 4
}
